{
 "cells": [
  {
   "cell_type": "code",
   "execution_count": 1,
   "id": "4d5f36e5-e348-457d-b254-707763be64c9",
   "metadata": {},
   "outputs": [],
   "source": [
    "# import the main libraries\n",
    "import os\n",
    "import numpy as np\n",
    "import pandas as pd\n",
    "import geopandas as gpd\n",
    "import matplotlib.cm as cm\n",
    "import matplotlib.pyplot as plt\n",
    "import seaborn as sns"
   ]
  },
  {
   "cell_type": "code",
   "execution_count": 2,
   "id": "bf30d41e-3801-4fc9-8fc5-3757680de476",
   "metadata": {},
   "outputs": [],
   "source": [
    "from shapely.geometry import Polygon, MultiPolygon\n",
    "\n",
    "\n",
    "def groupby_multipoly(df, by, aggfunc=\"first\"):\n",
    "    data = df.drop(labels=df.geometry.name, axis=1)\n",
    "    aggregated_data = data.groupby(by=by).agg(aggfunc)\n",
    "\n",
    "    # Process spatial component\n",
    "    def merge_geometries(block):\n",
    "        return MultiPolygon(block.values)\n",
    "\n",
    "    g = df.groupby(by=by, group_keys=False)[df.geometry.name].agg(\n",
    "        merge_geometries\n",
    "    )\n",
    "\n",
    "    # Aggregate\n",
    "    aggregated_geometry = gpd.GeoDataFrame(g, geometry=df.geometry.name, crs=df.crs)\n",
    "    # Recombine\n",
    "    aggregated = aggregated_geometry.join(aggregated_data)\n",
    "    return aggregated"
   ]
  },
  {
   "cell_type": "code",
   "execution_count": 19,
   "id": "7beff1b2-8c2a-4526-99ec-97a5a9a9b7d3",
   "metadata": {},
   "outputs": [],
   "source": [
    "original = gpd.read_file(\"Sea_Ice_Extents_original.geojson\")"
   ]
  },
  {
   "cell_type": "code",
   "execution_count": 20,
   "id": "26ea99e3-a18d-4bd3-8266-6d138292a723",
   "metadata": {},
   "outputs": [
    {
     "data": {
      "text/plain": [
       "<Geographic 2D CRS: EPSG:4326>\n",
       "Name: WGS 84\n",
       "Axis Info [ellipsoidal]:\n",
       "- Lat[north]: Geodetic latitude (degree)\n",
       "- Lon[east]: Geodetic longitude (degree)\n",
       "Area of Use:\n",
       "- name: World.\n",
       "- bounds: (-180.0, -90.0, 180.0, 90.0)\n",
       "Datum: World Geodetic System 1984\n",
       "- Ellipsoid: WGS 84\n",
       "- Prime Meridian: Greenwich"
      ]
     },
     "execution_count": 20,
     "metadata": {},
     "output_type": "execute_result"
    }
   ],
   "source": [
    "original.crs"
   ]
  },
  {
   "cell_type": "code",
   "execution_count": 21,
   "id": "6c63d7a9-647f-498a-a63e-c44a7550f612",
   "metadata": {},
   "outputs": [
    {
     "data": {
      "text/plain": [
       "<AxesSubplot:>"
      ]
     },
     "execution_count": 21,
     "metadata": {},
     "output_type": "execute_result"
    },
    {
     "data": {
      "image/png": "[encoded data removed]",
      "text/plain": [
       "<Figure size 432x288 with 1 Axes>"
      ]
     },
     "metadata": {
      "needs_background": "light"
     },
     "output_type": "display_data"
    }
   ],
   "source": [
    "original.plot()"
   ]
  },
  {
   "cell_type": "code",
   "execution_count": 4,
   "id": "5f7b7c0f-4d88-4a60-80ea-cfccf544bde7",
   "metadata": {},
   "outputs": [],
   "source": [
    "old = gpd.read_file(\"Data/NSIDC_SeaIceExtent/Sea_Ice_Extents.geojson\")"
   ]
  },
  {
   "cell_type": "code",
   "execution_count": 5,
   "id": "74d4e3b1-895a-4a15-8874-881ad2406e31",
   "metadata": {},
   "outputs": [
    {
     "data": {
      "text/html": [
       "<div>\n",
       "<style scoped>\n",
       "    .dataframe tbody tr th:only-of-type {\n",
       "        vertical-align: middle;\n",
       "    }\n",
       "\n",
       "    .dataframe tbody tr th {\n",
       "        vertical-align: top;\n",
       "    }\n",
       "\n",
       "    .dataframe thead th {\n",
       "        text-align: right;\n",
       "    }\n",
       "</style>\n",
       "<table border=\"1\" class=\"dataframe\">\n",
       "  <thead>\n",
       "    <tr style=\"text-align: right;\">\n",
       "      <th></th>\n",
       "      <th>objectid</th>\n",
       "      <th>name</th>\n",
       "      <th>analysisdate</th>\n",
       "      <th>month</th>\n",
       "      <th>year</th>\n",
       "      <th>SHAPE_Length</th>\n",
       "      <th>SHAPE_Area</th>\n",
       "      <th>geometry</th>\n",
       "    </tr>\n",
       "  </thead>\n",
       "  <tbody>\n",
       "    <tr>\n",
       "      <th>0</th>\n",
       "      <td>1</td>\n",
       "      <td>197811</td>\n",
       "      <td>1978-11-01T00:00:00</td>\n",
       "      <td>11</td>\n",
       "      <td>1978</td>\n",
       "      <td>2665.940717</td>\n",
       "      <td>5860.240913</td>\n",
       "      <td>MULTIPOLYGON (((143.393 49.073, 143.216 48.270...</td>\n",
       "    </tr>\n",
       "    <tr>\n",
       "      <th>1</th>\n",
       "      <td>2</td>\n",
       "      <td>197812</td>\n",
       "      <td>1978-12-01T00:00:00</td>\n",
       "      <td>12</td>\n",
       "      <td>1978</td>\n",
       "      <td>3033.019146</td>\n",
       "      <td>6265.555672</td>\n",
       "      <td>MULTIPOLYGON (((141.613 44.384, 141.551 43.992...</td>\n",
       "    </tr>\n",
       "    <tr>\n",
       "      <th>2</th>\n",
       "      <td>3</td>\n",
       "      <td>197901</td>\n",
       "      <td>1979-01-01T00:00:00</td>\n",
       "      <td>1</td>\n",
       "      <td>1979</td>\n",
       "      <td>3178.760589</td>\n",
       "      <td>6509.636565</td>\n",
       "      <td>MULTIPOLYGON (((119.055 38.246, 119.120 38.065...</td>\n",
       "    </tr>\n",
       "    <tr>\n",
       "      <th>3</th>\n",
       "      <td>4</td>\n",
       "      <td>197902</td>\n",
       "      <td>1979-02-01T00:00:00</td>\n",
       "      <td>2</td>\n",
       "      <td>1979</td>\n",
       "      <td>3235.443751</td>\n",
       "      <td>6636.114144</td>\n",
       "      <td>MULTIPOLYGON (((121.608 38.771, 121.663 38.587...</td>\n",
       "    </tr>\n",
       "    <tr>\n",
       "      <th>4</th>\n",
       "      <td>5</td>\n",
       "      <td>197903</td>\n",
       "      <td>1979-03-01T00:00:00</td>\n",
       "      <td>3</td>\n",
       "      <td>1979</td>\n",
       "      <td>3234.851666</td>\n",
       "      <td>6644.073562</td>\n",
       "      <td>MULTIPOLYGON (((118.301 38.268, 118.369 38.088...</td>\n",
       "    </tr>\n",
       "    <tr>\n",
       "      <th>...</th>\n",
       "      <td>...</td>\n",
       "      <td>...</td>\n",
       "      <td>...</td>\n",
       "      <td>...</td>\n",
       "      <td>...</td>\n",
       "      <td>...</td>\n",
       "      <td>...</td>\n",
       "      <td>...</td>\n",
       "    </tr>\n",
       "    <tr>\n",
       "      <th>434</th>\n",
       "      <td>435</td>\n",
       "      <td>201503</td>\n",
       "      <td>2015-03-01T00:00:00</td>\n",
       "      <td>3</td>\n",
       "      <td>2015</td>\n",
       "      <td>3095.138796</td>\n",
       "      <td>6216.510274</td>\n",
       "      <td>MULTIPOLYGON (((125.259 38.969, 125.300 38.783...</td>\n",
       "    </tr>\n",
       "    <tr>\n",
       "      <th>435</th>\n",
       "      <td>436</td>\n",
       "      <td>201504</td>\n",
       "      <td>2015-04-01T00:00:00</td>\n",
       "      <td>4</td>\n",
       "      <td>2015</td>\n",
       "      <td>3028.573689</td>\n",
       "      <td>6130.483827</td>\n",
       "      <td>MULTIPOLYGON (((125.259 38.969, 125.300 38.783...</td>\n",
       "    </tr>\n",
       "    <tr>\n",
       "      <th>436</th>\n",
       "      <td>437</td>\n",
       "      <td>201505</td>\n",
       "      <td>2015-05-01T00:00:00</td>\n",
       "      <td>5</td>\n",
       "      <td>2015</td>\n",
       "      <td>2812.741868</td>\n",
       "      <td>5920.578131</td>\n",
       "      <td>MULTIPOLYGON (((144.372 44.305, 144.328 44.110...</td>\n",
       "    </tr>\n",
       "    <tr>\n",
       "      <th>437</th>\n",
       "      <td>438</td>\n",
       "      <td>201506</td>\n",
       "      <td>2015-06-01T00:00:00</td>\n",
       "      <td>6</td>\n",
       "      <td>2015</td>\n",
       "      <td>2734.209098</td>\n",
       "      <td>5529.887519</td>\n",
       "      <td>MULTIPOLYGON (((143.545 47.014, 143.502 46.816...</td>\n",
       "    </tr>\n",
       "    <tr>\n",
       "      <th>438</th>\n",
       "      <td>439</td>\n",
       "      <td>201507</td>\n",
       "      <td>2015-07-01T00:00:00</td>\n",
       "      <td>7</td>\n",
       "      <td>2015</td>\n",
       "      <td>2417.127344</td>\n",
       "      <td>4970.616419</td>\n",
       "      <td>MULTIPOLYGON (((143.645 51.537, 143.596 51.333...</td>\n",
       "    </tr>\n",
       "  </tbody>\n",
       "</table>\n",
       "<p>439 rows × 8 columns</p>\n",
       "</div>"
      ],
      "text/plain": [
       "     objectid    name         analysisdate  month  year  SHAPE_Length  \\\n",
       "0           1  197811  1978-11-01T00:00:00     11  1978   2665.940717   \n",
       "1           2  197812  1978-12-01T00:00:00     12  1978   3033.019146   \n",
       "2           3  197901  1979-01-01T00:00:00      1  1979   3178.760589   \n",
       "3           4  197902  1979-02-01T00:00:00      2  1979   3235.443751   \n",
       "4           5  197903  1979-03-01T00:00:00      3  1979   3234.851666   \n",
       "..        ...     ...                  ...    ...   ...           ...   \n",
       "434       435  201503  2015-03-01T00:00:00      3  2015   3095.138796   \n",
       "435       436  201504  2015-04-01T00:00:00      4  2015   3028.573689   \n",
       "436       437  201505  2015-05-01T00:00:00      5  2015   2812.741868   \n",
       "437       438  201506  2015-06-01T00:00:00      6  2015   2734.209098   \n",
       "438       439  201507  2015-07-01T00:00:00      7  2015   2417.127344   \n",
       "\n",
       "      SHAPE_Area                                           geometry  \n",
       "0    5860.240913  MULTIPOLYGON (((143.393 49.073, 143.216 48.270...  \n",
       "1    6265.555672  MULTIPOLYGON (((141.613 44.384, 141.551 43.992...  \n",
       "2    6509.636565  MULTIPOLYGON (((119.055 38.246, 119.120 38.065...  \n",
       "3    6636.114144  MULTIPOLYGON (((121.608 38.771, 121.663 38.587...  \n",
       "4    6644.073562  MULTIPOLYGON (((118.301 38.268, 118.369 38.088...  \n",
       "..           ...                                                ...  \n",
       "434  6216.510274  MULTIPOLYGON (((125.259 38.969, 125.300 38.783...  \n",
       "435  6130.483827  MULTIPOLYGON (((125.259 38.969, 125.300 38.783...  \n",
       "436  5920.578131  MULTIPOLYGON (((144.372 44.305, 144.328 44.110...  \n",
       "437  5529.887519  MULTIPOLYGON (((143.545 47.014, 143.502 46.816...  \n",
       "438  4970.616419  MULTIPOLYGON (((143.645 51.537, 143.596 51.333...  \n",
       "\n",
       "[439 rows x 8 columns]"
      ]
     },
     "execution_count": 5,
     "metadata": {},
     "output_type": "execute_result"
    }
   ],
   "source": [
    "old"
   ]
  },
  {
   "cell_type": "code",
   "execution_count": 6,
   "id": "e8eb66f2-2a91-4c9d-a71c-20515be0d678",
   "metadata": {},
   "outputs": [
    {
     "data": {
      "text/plain": [
       "<AxesSubplot:>"
      ]
     },
     "execution_count": 6,
     "metadata": {},
     "output_type": "execute_result"
    },
    {
     "data": {
      "image/png": "[encoded data removed]",
      "text/plain": [
       "<Figure size 432x288 with 1 Axes>"
      ]
     },
     "metadata": {
      "needs_background": "light"
     },
     "output_type": "display_data"
    }
   ],
   "source": [
    "old.plot()\n"
   ]
  },
  {
   "cell_type": "code",
   "execution_count": 7,
   "id": "a3bf99d0-2b34-48e7-8831-3313f9219c02",
   "metadata": {},
   "outputs": [
    {
     "data": {
      "text/plain": [
       "<Geographic 2D CRS: EPSG:4326>\n",
       "Name: WGS 84\n",
       "Axis Info [ellipsoidal]:\n",
       "- Lat[north]: Geodetic latitude (degree)\n",
       "- Lon[east]: Geodetic longitude (degree)\n",
       "Area of Use:\n",
       "- name: World.\n",
       "- bounds: (-180.0, -90.0, 180.0, 90.0)\n",
       "Datum: World Geodetic System 1984\n",
       "- Ellipsoid: WGS 84\n",
       "- Prime Meridian: Greenwich"
      ]
     },
     "execution_count": 7,
     "metadata": {},
     "output_type": "execute_result"
    }
   ],
   "source": [
    "old.crs"
   ]
  },
  {
   "cell_type": "markdown",
   "id": "54fd188b-6e01-4e9d-9656-546501ab1ef2",
   "metadata": {},
   "source": [
    "39\n",
    "4 Coverage and Resolution\n",
    "4.1 Temporal Coverage and Resolution\n",
    "The Sea Ice Index time series begins in November 1978 and extends through the present. Over this long record, different\n",
    "instruments have been used to capture the data. Table 1, in the Instrument Description section, lists the instruments\n",
    "used by the Sea Ice Index's source data products and gives the temporal coverage of the them. The temporal coverage\n",
    "of the source data products (as of January 2017) is:\n",
    "• GSFC Product data: 26 October 1978 through 31 December 2020. There are no data from 3 December 1987 to\n",
    "13 January 1988 due to satellite problems.\n",
    "• NRTSI Product data: 01 January 2021 to present.\n",
    "The temporal resolution of the Sea Ice Index is daily and monthly. Only the monthly data and images are archived. Daily\n",
    "data (extent values) are archived as well. Daily ice extent image files are available for the previous day only and are not\n",
    "archived. Daily ice concentration browse images from the GSFC product and NRTSI product are archived, however. See\n",
    "the NRTSI product site and the GSFC product site and click on the browse directory.\n",
    "Note: For the SSMR portion of the record, a given polar region was, depending on latitude, only sensed every other day\n",
    "or less. For the SSM/I and later portions of the record, a given polar region was sensed every day.\n",
    "4.2 Spatial Coverage and Resolution\n",
    "4.2.1 Coverage, Projection, and Grid Cell Size\n",
    "Sea Ice Index images and data are based on gridded concentrations that come from a product with a spatial coverage\n",
    "that is north of 30.98° N for the Northern Hemisphere and south of 39.23° S for the Southern Hemisphere. Sea Ice Index\n",
    "images and alphanumeric data are based on gridded concentration data in the NSIDC Polar Stereographic Projection\n",
    "using the Hughes ellipsoid datum and EPSG 3411, for the Arctic, and EPSG 3412, for the Antarctic. For more information,\n",
    "see NSIDC’s Polar Stereographic Projections and Grids web page."
   ]
  },
  {
   "cell_type": "code",
   "execution_count": null,
   "id": "07c5c25a-84e0-4f77-a7d9-c65e381a379d",
   "metadata": {},
   "outputs": [],
   "source": []
  },
  {
   "cell_type": "code",
   "execution_count": 9,
   "id": "8287a640-7c67-4b7a-b3e7-73e3ac91322e",
   "metadata": {
    "tags": []
   },
   "outputs": [
    {
     "data": {
      "text/html": [
       "<div>\n",
       "<style scoped>\n",
       "    .dataframe tbody tr th:only-of-type {\n",
       "        vertical-align: middle;\n",
       "    }\n",
       "\n",
       "    .dataframe tbody tr th {\n",
       "        vertical-align: top;\n",
       "    }\n",
       "\n",
       "    .dataframe thead th {\n",
       "        text-align: right;\n",
       "    }\n",
       "</style>\n",
       "<table border=\"1\" class=\"dataframe\">\n",
       "  <thead>\n",
       "    <tr style=\"text-align: right;\">\n",
       "      <th></th>\n",
       "      <th>FID</th>\n",
       "      <th>geometry</th>\n",
       "    </tr>\n",
       "  </thead>\n",
       "  <tbody>\n",
       "    <tr>\n",
       "      <th>0</th>\n",
       "      <td>0</td>\n",
       "      <td>POLYGON ((1000000.000 5850000.000, 1050000.000...</td>\n",
       "    </tr>\n",
       "    <tr>\n",
       "      <th>1</th>\n",
       "      <td>1</td>\n",
       "      <td>POLYGON ((1650000.000 5800000.000, 1675000.000...</td>\n",
       "    </tr>\n",
       "    <tr>\n",
       "      <th>2</th>\n",
       "      <td>2</td>\n",
       "      <td>POLYGON ((700000.000 5775000.000, 750000.000 5...</td>\n",
       "    </tr>\n",
       "    <tr>\n",
       "      <th>3</th>\n",
       "      <td>3</td>\n",
       "      <td>POLYGON ((1325000.000 5775000.000, 1350000.000...</td>\n",
       "    </tr>\n",
       "    <tr>\n",
       "      <th>4</th>\n",
       "      <td>4</td>\n",
       "      <td>POLYGON ((1050000.000 5750000.000, 1075000.000...</td>\n",
       "    </tr>\n",
       "    <tr>\n",
       "      <th>...</th>\n",
       "      <td>...</td>\n",
       "      <td>...</td>\n",
       "    </tr>\n",
       "    <tr>\n",
       "      <th>129</th>\n",
       "      <td>129</td>\n",
       "      <td>POLYGON ((-1425000.000 -4750000.000, -1400000....</td>\n",
       "    </tr>\n",
       "    <tr>\n",
       "      <th>130</th>\n",
       "      <td>130</td>\n",
       "      <td>POLYGON ((-1325000.000 -4775000.000, -1300000....</td>\n",
       "    </tr>\n",
       "    <tr>\n",
       "      <th>131</th>\n",
       "      <td>131</td>\n",
       "      <td>POLYGON ((-1700000.000 -4800000.000, -1650000....</td>\n",
       "    </tr>\n",
       "    <tr>\n",
       "      <th>132</th>\n",
       "      <td>132</td>\n",
       "      <td>POLYGON ((-1425000.000 -4850000.000, -1400000....</td>\n",
       "    </tr>\n",
       "    <tr>\n",
       "      <th>133</th>\n",
       "      <td>133</td>\n",
       "      <td>POLYGON ((-1500000.000 -4900000.000, -1475000....</td>\n",
       "    </tr>\n",
       "  </tbody>\n",
       "</table>\n",
       "<p>134 rows × 2 columns</p>\n",
       "</div>"
      ],
      "text/plain": [
       "     FID                                           geometry\n",
       "0      0  POLYGON ((1000000.000 5850000.000, 1050000.000...\n",
       "1      1  POLYGON ((1650000.000 5800000.000, 1675000.000...\n",
       "2      2  POLYGON ((700000.000 5775000.000, 750000.000 5...\n",
       "3      3  POLYGON ((1325000.000 5775000.000, 1350000.000...\n",
       "4      4  POLYGON ((1050000.000 5750000.000, 1075000.000...\n",
       "..   ...                                                ...\n",
       "129  129  POLYGON ((-1425000.000 -4750000.000, -1400000....\n",
       "130  130  POLYGON ((-1325000.000 -4775000.000, -1300000....\n",
       "131  131  POLYGON ((-1700000.000 -4800000.000, -1650000....\n",
       "132  132  POLYGON ((-1425000.000 -4850000.000, -1400000....\n",
       "133  133  POLYGON ((-1500000.000 -4900000.000, -1475000....\n",
       "\n",
       "[134 rows x 2 columns]"
      ]
     },
     "execution_count": 9,
     "metadata": {},
     "output_type": "execute_result"
    }
   ],
   "source": [
    "new1 = gpd.read_file(\"Data/NSIDC_SeaIceExtent/unzipped/extent_N_201601_polygon_v3.0.shp\")\n",
    "new1"
   ]
  },
  {
   "cell_type": "code",
   "execution_count": 10,
   "id": "697f1fdf-bb90-4732-8d30-81a69e263d7a",
   "metadata": {
    "tags": []
   },
   "outputs": [
    {
     "data": {
      "text/plain": [
       "<Projected CRS: EPSG:3411>\n",
       "Name: NSIDC Sea Ice Polar Stereographic North\n",
       "Axis Info [cartesian]:\n",
       "- X[south]: Easting (metre)\n",
       "- Y[south]: Northing (metre)\n",
       "Area of Use:\n",
       "- name: Northern hemisphere - north of 60°N onshore and offshore, including Arctic.\n",
       "- bounds: (-180.0, 60.0, 180.0, 90.0)\n",
       "Coordinate Operation:\n",
       "- name: US NSIDC Sea Ice polar stereographic north\n",
       "- method: Polar Stereographic (variant B)\n",
       "Datum: Not specified (based on Hughes 1980 ellipsoid)\n",
       "- Ellipsoid: Hughes 1980\n",
       "- Prime Meridian: Greenwich"
      ]
     },
     "execution_count": 10,
     "metadata": {},
     "output_type": "execute_result"
    }
   ],
   "source": [
    "new1.crs"
   ]
  },
  {
   "cell_type": "code",
   "execution_count": 13,
   "id": "c861ec0c-8491-4c83-9298-60a228d54d80",
   "metadata": {},
   "outputs": [],
   "source": [
    "new1.crs = \"+proj=stere +lat_0=90 +lat_ts=70 +lon_0=-45 +k=1 +x_0=0 +y_0=0 +datum=WGS84 +units=m +no_defs\""
   ]
  },
  {
   "cell_type": "markdown",
   "id": "9bb5c5a9-b897-4665-8990-5fa87b6fce85",
   "metadata": {},
   "source": [
    "https://geopandas.org/en/stable/docs/user_guide/projections.html"
   ]
  },
  {
   "cell_type": "code",
   "execution_count": 14,
   "id": "ed2ab0c1-4274-40f7-b47f-25452d9ce43a",
   "metadata": {},
   "outputs": [
    {
     "data": {
      "text/plain": [
       "<Projected CRS: +proj=stere +lat_0=90 +lat_ts=70 +lon_0=-45 +k=1 + ...>\n",
       "Name: unknown\n",
       "Axis Info [cartesian]:\n",
       "- E[south]: Easting (metre)\n",
       "- N[south]: Northing (metre)\n",
       "Area of Use:\n",
       "- undefined\n",
       "Coordinate Operation:\n",
       "- name: unknown\n",
       "- method: Polar Stereographic (variant B)\n",
       "Datum: World Geodetic System 1984\n",
       "- Ellipsoid: WGS 84\n",
       "- Prime Meridian: Greenwich"
      ]
     },
     "execution_count": 14,
     "metadata": {},
     "output_type": "execute_result"
    }
   ],
   "source": [
    "new1.crs"
   ]
  },
  {
   "cell_type": "code",
   "execution_count": 15,
   "id": "840efb3f-630c-49e9-85d4-91086973d022",
   "metadata": {},
   "outputs": [
    {
     "data": {
      "text/plain": [
       "<AxesSubplot:>"
      ]
     },
     "execution_count": 15,
     "metadata": {},
     "output_type": "execute_result"
    },
    {
     "data": {
      "image/png": "[encoded data removed]",
      "text/plain": [
       "<Figure size 432x288 with 1 Axes>"
      ]
     },
     "metadata": {
      "needs_background": "light"
     },
     "output_type": "display_data"
    }
   ],
   "source": [
    "new1.plot()"
   ]
  },
  {
   "cell_type": "code",
   "execution_count": 16,
   "id": "9ff2711b-e3c7-4a8f-ad54-55ee68c4b0d0",
   "metadata": {},
   "outputs": [],
   "source": [
    "test2 = new1.set_crs(3413, allow_override=True)"
   ]
  },
  {
   "cell_type": "code",
   "execution_count": 17,
   "id": "cb43251a-1225-4af7-83c3-bda5e2c966cb",
   "metadata": {},
   "outputs": [
    {
     "data": {
      "text/plain": [
       "<AxesSubplot:>"
      ]
     },
     "execution_count": 17,
     "metadata": {},
     "output_type": "execute_result"
    },
    {
     "data": {
      "image/png": "[encoded data removed]",
      "text/plain": [
       "<Figure size 432x288 with 1 Axes>"
      ]
     },
     "metadata": {
      "needs_background": "light"
     },
     "output_type": "display_data"
    }
   ],
   "source": [
    "test2.plot()"
   ]
  },
  {
   "cell_type": "code",
   "execution_count": 18,
   "id": "aec14841-eb04-4451-a9da-e40ea209e2c3",
   "metadata": {},
   "outputs": [
    {
     "data": {
      "text/plain": [
       "<Projected CRS: EPSG:3413>\n",
       "Name: WGS 84 / NSIDC Sea Ice Polar Stereographic North\n",
       "Axis Info [cartesian]:\n",
       "- X[south]: Easting (metre)\n",
       "- Y[south]: Northing (metre)\n",
       "Area of Use:\n",
       "- name: Northern hemisphere - north of 60°N onshore and offshore, including Arctic.\n",
       "- bounds: (-180.0, 60.0, 180.0, 90.0)\n",
       "Coordinate Operation:\n",
       "- name: US NSIDC Sea Ice polar stereographic north\n",
       "- method: Polar Stereographic (variant B)\n",
       "Datum: World Geodetic System 1984\n",
       "- Ellipsoid: WGS 84\n",
       "- Prime Meridian: Greenwich"
      ]
     },
     "execution_count": 18,
     "metadata": {},
     "output_type": "execute_result"
    }
   ],
   "source": [
    "test2.crs"
   ]
  },
  {
   "cell_type": "code",
   "execution_count": 16,
   "id": "899a6451-744f-43bd-b6be-3ce0cbc4e01a",
   "metadata": {},
   "outputs": [
    {
     "data": {
      "text/plain": [
       "<AxesSubplot:>"
      ]
     },
     "execution_count": 16,
     "metadata": {},
     "output_type": "execute_result"
    },
    {
     "data": {
      "image/png": "[encoded data removed]",
      "text/plain": [
       "<Figure size 432x288 with 1 Axes>"
      ]
     },
     "metadata": {
      "needs_background": "light"
     },
     "output_type": "display_data"
    }
   ],
   "source": [
    "new_crs = new1.to_crs(3413)\n",
    "\n",
    "new_crs.plot()"
   ]
  },
  {
   "cell_type": "code",
   "execution_count": 17,
   "id": "45d8cdcd-8065-4f49-bd7d-bf4872a67648",
   "metadata": {},
   "outputs": [
    {
     "data": {
      "text/plain": [
       "<Projected CRS: EPSG:3413>\n",
       "Name: WGS 84 / NSIDC Sea Ice Polar Stereographic North\n",
       "Axis Info [cartesian]:\n",
       "- X[south]: Easting (metre)\n",
       "- Y[south]: Northing (metre)\n",
       "Area of Use:\n",
       "- name: Northern hemisphere - north of 60°N onshore and offshore, including Arctic.\n",
       "- bounds: (-180.0, 60.0, 180.0, 90.0)\n",
       "Coordinate Operation:\n",
       "- name: US NSIDC Sea Ice polar stereographic north\n",
       "- method: Polar Stereographic (variant B)\n",
       "Datum: World Geodetic System 1984\n",
       "- Ellipsoid: WGS 84\n",
       "- Prime Meridian: Greenwich"
      ]
     },
     "execution_count": 17,
     "metadata": {},
     "output_type": "execute_result"
    }
   ],
   "source": [
    "new_crs.crs"
   ]
  },
  {
   "cell_type": "code",
   "execution_count": null,
   "id": "5bb5f3c3-c187-4c9f-a813-f8d650228c56",
   "metadata": {},
   "outputs": [],
   "source": []
  },
  {
   "cell_type": "code",
   "execution_count": 20,
   "id": "2ca6694c-6bc1-4a07-92d7-213e70f6594f",
   "metadata": {},
   "outputs": [
    {
     "data": {
      "text/plain": [
       "<AxesSubplot:>"
      ]
     },
     "execution_count": 20,
     "metadata": {},
     "output_type": "execute_result"
    },
    {
     "data": {
      "image/png": "[encoded data removed]",
      "text/plain": [
       "<Figure size 432x288 with 1 Axes>"
      ]
     },
     "metadata": {
      "needs_background": "light"
     },
     "output_type": "display_data"
    }
   ],
   "source": [
    "test2.to_crs(epsg=4326, inplace=True)\n",
    "\n",
    "test2.plot()"
   ]
  },
  {
   "cell_type": "code",
   "execution_count": null,
   "id": "60e48fa5-4764-4773-b172-29be236bbbe7",
   "metadata": {},
   "outputs": [],
   "source": [
    "--------------------------"
   ]
  },
  {
   "cell_type": "code",
   "execution_count": 24,
   "id": "5486b275-5970-4a5a-817e-5b7278b9e993",
   "metadata": {},
   "outputs": [
    {
     "data": {
      "text/html": [
       "<div>\n",
       "<style scoped>\n",
       "    .dataframe tbody tr th:only-of-type {\n",
       "        vertical-align: middle;\n",
       "    }\n",
       "\n",
       "    .dataframe tbody tr th {\n",
       "        vertical-align: top;\n",
       "    }\n",
       "\n",
       "    .dataframe thead th {\n",
       "        text-align: right;\n",
       "    }\n",
       "</style>\n",
       "<table border=\"1\" class=\"dataframe\">\n",
       "  <thead>\n",
       "    <tr style=\"text-align: right;\">\n",
       "      <th></th>\n",
       "      <th>FID</th>\n",
       "      <th>geometry</th>\n",
       "    </tr>\n",
       "  </thead>\n",
       "  <tbody>\n",
       "    <tr>\n",
       "      <th>0</th>\n",
       "      <td>0</td>\n",
       "      <td>POLYGON ((125.29961 38.78287, 124.82449 38.717...</td>\n",
       "    </tr>\n",
       "    <tr>\n",
       "      <th>1</th>\n",
       "      <td>1</td>\n",
       "      <td>POLYGON ((119.11986 38.06502, 118.89165 38.013...</td>\n",
       "    </tr>\n",
       "    <tr>\n",
       "      <th>2</th>\n",
       "      <td>2</td>\n",
       "      <td>POLYGON ((128.08877 39.67461, 127.60041 39.627...</td>\n",
       "    </tr>\n",
       "    <tr>\n",
       "      <th>3</th>\n",
       "      <td>3</td>\n",
       "      <td>POLYGON ((122.07786 38.85696, 121.84246 38.814...</td>\n",
       "    </tr>\n",
       "    <tr>\n",
       "      <th>4</th>\n",
       "      <td>4</td>\n",
       "      <td>POLYGON ((124.65132 39.46310, 124.41043 39.428...</td>\n",
       "    </tr>\n",
       "    <tr>\n",
       "      <th>...</th>\n",
       "      <td>...</td>\n",
       "      <td>...</td>\n",
       "    </tr>\n",
       "    <tr>\n",
       "      <th>129</th>\n",
       "      <td>129</td>\n",
       "      <td>POLYGON ((-61.69924 46.37323, -61.42219 46.430...</td>\n",
       "    </tr>\n",
       "    <tr>\n",
       "      <th>130</th>\n",
       "      <td>130</td>\n",
       "      <td>POLYGON ((-60.50864 46.40298, -60.22973 46.455...</td>\n",
       "    </tr>\n",
       "    <tr>\n",
       "      <th>131</th>\n",
       "      <td>131</td>\n",
       "      <td>POLYGON ((-64.50245 45.31344, -63.97041 45.444...</td>\n",
       "    </tr>\n",
       "    <tr>\n",
       "      <th>132</th>\n",
       "      <td>132</td>\n",
       "      <td>POLYGON ((-61.37355 45.60860, -61.10130 45.664...</td>\n",
       "    </tr>\n",
       "    <tr>\n",
       "      <th>133</th>\n",
       "      <td>133</td>\n",
       "      <td>POLYGON ((-62.02053 45.05724, -61.75287 45.114...</td>\n",
       "    </tr>\n",
       "  </tbody>\n",
       "</table>\n",
       "<p>134 rows × 2 columns</p>\n",
       "</div>"
      ],
      "text/plain": [
       "     FID                                           geometry\n",
       "0      0  POLYGON ((125.29961 38.78287, 124.82449 38.717...\n",
       "1      1  POLYGON ((119.11986 38.06502, 118.89165 38.013...\n",
       "2      2  POLYGON ((128.08877 39.67461, 127.60041 39.627...\n",
       "3      3  POLYGON ((122.07786 38.85696, 121.84246 38.814...\n",
       "4      4  POLYGON ((124.65132 39.46310, 124.41043 39.428...\n",
       "..   ...                                                ...\n",
       "129  129  POLYGON ((-61.69924 46.37323, -61.42219 46.430...\n",
       "130  130  POLYGON ((-60.50864 46.40298, -60.22973 46.455...\n",
       "131  131  POLYGON ((-64.50245 45.31344, -63.97041 45.444...\n",
       "132  132  POLYGON ((-61.37355 45.60860, -61.10130 45.664...\n",
       "133  133  POLYGON ((-62.02053 45.05724, -61.75287 45.114...\n",
       "\n",
       "[134 rows x 2 columns]"
      ]
     },
     "execution_count": 24,
     "metadata": {},
     "output_type": "execute_result"
    }
   ],
   "source": [
    "test2"
   ]
  },
  {
   "cell_type": "code",
   "execution_count": 23,
   "id": "1bea517d-8db5-4f39-bb97-2e69ac521abd",
   "metadata": {},
   "outputs": [
    {
     "ename": "KeyError",
     "evalue": "False",
     "output_type": "error",
     "traceback": [
      "\u001b[0;31m---------------------------------------------------------------------------\u001b[0m",
      "\u001b[0;31mKeyError\u001b[0m                                  Traceback (most recent call last)",
      "\u001b[0;32m/opt/conda/envs/sds2021/lib/python3.9/site-packages/pandas/core/indexes/base.py\u001b[0m in \u001b[0;36mget_loc\u001b[0;34m(self, key, method, tolerance)\u001b[0m\n\u001b[1;32m   3360\u001b[0m             \u001b[0;32mtry\u001b[0m\u001b[0;34m:\u001b[0m\u001b[0;34m\u001b[0m\u001b[0;34m\u001b[0m\u001b[0m\n\u001b[0;32m-> 3361\u001b[0;31m                 \u001b[0;32mreturn\u001b[0m \u001b[0mself\u001b[0m\u001b[0;34m.\u001b[0m\u001b[0m_engine\u001b[0m\u001b[0;34m.\u001b[0m\u001b[0mget_loc\u001b[0m\u001b[0;34m(\u001b[0m\u001b[0mcasted_key\u001b[0m\u001b[0;34m)\u001b[0m\u001b[0;34m\u001b[0m\u001b[0;34m\u001b[0m\u001b[0m\n\u001b[0m\u001b[1;32m   3362\u001b[0m             \u001b[0;32mexcept\u001b[0m \u001b[0mKeyError\u001b[0m \u001b[0;32mas\u001b[0m \u001b[0merr\u001b[0m\u001b[0;34m:\u001b[0m\u001b[0;34m\u001b[0m\u001b[0;34m\u001b[0m\u001b[0m\n",
      "\u001b[0;32m/opt/conda/envs/sds2021/lib/python3.9/site-packages/pandas/_libs/index.pyx\u001b[0m in \u001b[0;36mpandas._libs.index.IndexEngine.get_loc\u001b[0;34m()\u001b[0m\n",
      "\u001b[0;32m/opt/conda/envs/sds2021/lib/python3.9/site-packages/pandas/_libs/index.pyx\u001b[0m in \u001b[0;36mpandas._libs.index.IndexEngine.get_loc\u001b[0;34m()\u001b[0m\n",
      "\u001b[0;32mpandas/_libs/hashtable_class_helper.pxi\u001b[0m in \u001b[0;36mpandas._libs.hashtable.PyObjectHashTable.get_item\u001b[0;34m()\u001b[0m\n",
      "\u001b[0;32mpandas/_libs/hashtable_class_helper.pxi\u001b[0m in \u001b[0;36mpandas._libs.hashtable.PyObjectHashTable.get_item\u001b[0;34m()\u001b[0m\n",
      "\u001b[0;31mKeyError\u001b[0m: False",
      "\nThe above exception was the direct cause of the following exception:\n",
      "\u001b[0;31mKeyError\u001b[0m                                  Traceback (most recent call last)",
      "\u001b[0;32m/tmp/ipykernel_3156/93905364.py\u001b[0m in \u001b[0;36m<module>\u001b[0;34m\u001b[0m\n\u001b[0;32m----> 1\u001b[0;31m \u001b[0mtest2\u001b[0m\u001b[0;34m[\u001b[0m\u001b[0;34m\"geometry\"\u001b[0m \u001b[0;34m==\u001b[0m \u001b[0;36m180\u001b[0m\u001b[0;34m]\u001b[0m\u001b[0;34m\u001b[0m\u001b[0;34m\u001b[0m\u001b[0m\n\u001b[0m",
      "\u001b[0;32m/opt/conda/envs/sds2021/lib/python3.9/site-packages/geopandas/geodataframe.py\u001b[0m in \u001b[0;36m__getitem__\u001b[0;34m(self, key)\u001b[0m\n\u001b[1;32m   1297\u001b[0m         \u001b[0mGeoDataFrame\u001b[0m\u001b[0;34m.\u001b[0m\u001b[0;34m\u001b[0m\u001b[0;34m\u001b[0m\u001b[0m\n\u001b[1;32m   1298\u001b[0m         \"\"\"\n\u001b[0;32m-> 1299\u001b[0;31m         \u001b[0mresult\u001b[0m \u001b[0;34m=\u001b[0m \u001b[0msuper\u001b[0m\u001b[0;34m(\u001b[0m\u001b[0mGeoDataFrame\u001b[0m\u001b[0;34m,\u001b[0m \u001b[0mself\u001b[0m\u001b[0;34m)\u001b[0m\u001b[0;34m.\u001b[0m\u001b[0m__getitem__\u001b[0m\u001b[0;34m(\u001b[0m\u001b[0mkey\u001b[0m\u001b[0;34m)\u001b[0m\u001b[0;34m\u001b[0m\u001b[0;34m\u001b[0m\u001b[0m\n\u001b[0m\u001b[1;32m   1300\u001b[0m         \u001b[0mgeo_col\u001b[0m \u001b[0;34m=\u001b[0m \u001b[0mself\u001b[0m\u001b[0;34m.\u001b[0m\u001b[0m_geometry_column_name\u001b[0m\u001b[0;34m\u001b[0m\u001b[0;34m\u001b[0m\u001b[0m\n\u001b[1;32m   1301\u001b[0m         \u001b[0;32mif\u001b[0m \u001b[0misinstance\u001b[0m\u001b[0;34m(\u001b[0m\u001b[0mresult\u001b[0m\u001b[0;34m,\u001b[0m \u001b[0mSeries\u001b[0m\u001b[0;34m)\u001b[0m \u001b[0;32mand\u001b[0m \u001b[0misinstance\u001b[0m\u001b[0;34m(\u001b[0m\u001b[0mresult\u001b[0m\u001b[0;34m.\u001b[0m\u001b[0mdtype\u001b[0m\u001b[0;34m,\u001b[0m \u001b[0mGeometryDtype\u001b[0m\u001b[0;34m)\u001b[0m\u001b[0;34m:\u001b[0m\u001b[0;34m\u001b[0m\u001b[0;34m\u001b[0m\u001b[0m\n",
      "\u001b[0;32m/opt/conda/envs/sds2021/lib/python3.9/site-packages/pandas/core/frame.py\u001b[0m in \u001b[0;36m__getitem__\u001b[0;34m(self, key)\u001b[0m\n\u001b[1;32m   3453\u001b[0m             \u001b[0;32mif\u001b[0m \u001b[0mself\u001b[0m\u001b[0;34m.\u001b[0m\u001b[0mcolumns\u001b[0m\u001b[0;34m.\u001b[0m\u001b[0mnlevels\u001b[0m \u001b[0;34m>\u001b[0m \u001b[0;36m1\u001b[0m\u001b[0;34m:\u001b[0m\u001b[0;34m\u001b[0m\u001b[0;34m\u001b[0m\u001b[0m\n\u001b[1;32m   3454\u001b[0m                 \u001b[0;32mreturn\u001b[0m \u001b[0mself\u001b[0m\u001b[0;34m.\u001b[0m\u001b[0m_getitem_multilevel\u001b[0m\u001b[0;34m(\u001b[0m\u001b[0mkey\u001b[0m\u001b[0;34m)\u001b[0m\u001b[0;34m\u001b[0m\u001b[0;34m\u001b[0m\u001b[0m\n\u001b[0;32m-> 3455\u001b[0;31m             \u001b[0mindexer\u001b[0m \u001b[0;34m=\u001b[0m \u001b[0mself\u001b[0m\u001b[0;34m.\u001b[0m\u001b[0mcolumns\u001b[0m\u001b[0;34m.\u001b[0m\u001b[0mget_loc\u001b[0m\u001b[0;34m(\u001b[0m\u001b[0mkey\u001b[0m\u001b[0;34m)\u001b[0m\u001b[0;34m\u001b[0m\u001b[0;34m\u001b[0m\u001b[0m\n\u001b[0m\u001b[1;32m   3456\u001b[0m             \u001b[0;32mif\u001b[0m \u001b[0mis_integer\u001b[0m\u001b[0;34m(\u001b[0m\u001b[0mindexer\u001b[0m\u001b[0;34m)\u001b[0m\u001b[0;34m:\u001b[0m\u001b[0;34m\u001b[0m\u001b[0;34m\u001b[0m\u001b[0m\n\u001b[1;32m   3457\u001b[0m                 \u001b[0mindexer\u001b[0m \u001b[0;34m=\u001b[0m \u001b[0;34m[\u001b[0m\u001b[0mindexer\u001b[0m\u001b[0;34m]\u001b[0m\u001b[0;34m\u001b[0m\u001b[0;34m\u001b[0m\u001b[0m\n",
      "\u001b[0;32m/opt/conda/envs/sds2021/lib/python3.9/site-packages/pandas/core/indexes/base.py\u001b[0m in \u001b[0;36mget_loc\u001b[0;34m(self, key, method, tolerance)\u001b[0m\n\u001b[1;32m   3361\u001b[0m                 \u001b[0;32mreturn\u001b[0m \u001b[0mself\u001b[0m\u001b[0;34m.\u001b[0m\u001b[0m_engine\u001b[0m\u001b[0;34m.\u001b[0m\u001b[0mget_loc\u001b[0m\u001b[0;34m(\u001b[0m\u001b[0mcasted_key\u001b[0m\u001b[0;34m)\u001b[0m\u001b[0;34m\u001b[0m\u001b[0;34m\u001b[0m\u001b[0m\n\u001b[1;32m   3362\u001b[0m             \u001b[0;32mexcept\u001b[0m \u001b[0mKeyError\u001b[0m \u001b[0;32mas\u001b[0m \u001b[0merr\u001b[0m\u001b[0;34m:\u001b[0m\u001b[0;34m\u001b[0m\u001b[0;34m\u001b[0m\u001b[0m\n\u001b[0;32m-> 3363\u001b[0;31m                 \u001b[0;32mraise\u001b[0m \u001b[0mKeyError\u001b[0m\u001b[0;34m(\u001b[0m\u001b[0mkey\u001b[0m\u001b[0;34m)\u001b[0m \u001b[0;32mfrom\u001b[0m \u001b[0merr\u001b[0m\u001b[0;34m\u001b[0m\u001b[0;34m\u001b[0m\u001b[0m\n\u001b[0m\u001b[1;32m   3364\u001b[0m \u001b[0;34m\u001b[0m\u001b[0m\n\u001b[1;32m   3365\u001b[0m         \u001b[0;32mif\u001b[0m \u001b[0mis_scalar\u001b[0m\u001b[0;34m(\u001b[0m\u001b[0mkey\u001b[0m\u001b[0;34m)\u001b[0m \u001b[0;32mand\u001b[0m \u001b[0misna\u001b[0m\u001b[0;34m(\u001b[0m\u001b[0mkey\u001b[0m\u001b[0;34m)\u001b[0m \u001b[0;32mand\u001b[0m \u001b[0;32mnot\u001b[0m \u001b[0mself\u001b[0m\u001b[0;34m.\u001b[0m\u001b[0mhasnans\u001b[0m\u001b[0;34m:\u001b[0m\u001b[0;34m\u001b[0m\u001b[0;34m\u001b[0m\u001b[0m\n",
      "\u001b[0;31mKeyError\u001b[0m: False"
     ]
    }
   ],
   "source": [
    "test2[\"geometry\" == 180]"
   ]
  },
  {
   "cell_type": "code",
   "execution_count": null,
   "id": "92011893-8ab1-4fee-b65d-b4090140e98c",
   "metadata": {},
   "outputs": [],
   "source": []
  },
  {
   "cell_type": "code",
   "execution_count": 12,
   "id": "27ba508d-13c9-4513-ad12-4aaa8508f55d",
   "metadata": {},
   "outputs": [],
   "source": [
    "new1.to_file(\"new1_3411.geojson\", driver='GeoJSON')"
   ]
  },
  {
   "cell_type": "code",
   "execution_count": 13,
   "id": "18c67961-7827-47c1-af2f-4d15a0e5bd94",
   "metadata": {},
   "outputs": [],
   "source": [
    "new2 = gpd.read_file(\"new1_3411.geojson\")"
   ]
  },
  {
   "cell_type": "code",
   "execution_count": 14,
   "id": "b29d1fad-9d8f-48f1-b67d-1a3726440530",
   "metadata": {},
   "outputs": [
    {
     "data": {
      "text/plain": [
       "<AxesSubplot:>"
      ]
     },
     "execution_count": 14,
     "metadata": {},
     "output_type": "execute_result"
    },
    {
     "data": {
      "image/png": "[encoded data removed]",
      "text/plain": [
       "<Figure size 432x288 with 1 Axes>"
      ]
     },
     "metadata": {
      "needs_background": "light"
     },
     "output_type": "display_data"
    }
   ],
   "source": [
    "new2.to_crs(epsg=4326, inplace=True)\n",
    "\n",
    "new2.plot()"
   ]
  },
  {
   "cell_type": "code",
   "execution_count": null,
   "id": "067f3749-5de7-49e5-b24e-a761cb3a27cc",
   "metadata": {},
   "outputs": [],
   "source": []
  },
  {
   "cell_type": "code",
   "execution_count": 31,
   "id": "e5003216-de53-406c-81a5-ab6a66d4f998",
   "metadata": {},
   "outputs": [
    {
     "data": {
      "text/html": [
       "<div>\n",
       "<style scoped>\n",
       "    .dataframe tbody tr th:only-of-type {\n",
       "        vertical-align: middle;\n",
       "    }\n",
       "\n",
       "    .dataframe tbody tr th {\n",
       "        vertical-align: top;\n",
       "    }\n",
       "\n",
       "    .dataframe thead th {\n",
       "        text-align: right;\n",
       "    }\n",
       "</style>\n",
       "<table border=\"1\" class=\"dataframe\">\n",
       "  <thead>\n",
       "    <tr style=\"text-align: right;\">\n",
       "      <th></th>\n",
       "      <th>FID</th>\n",
       "      <th>geometry</th>\n",
       "      <th>SHAPE_Area</th>\n",
       "    </tr>\n",
       "  </thead>\n",
       "  <tbody>\n",
       "    <tr>\n",
       "      <th>0</th>\n",
       "      <td>0</td>\n",
       "      <td>POLYGON ((1000000.000 5850000.000, 1050000.000...</td>\n",
       "      <td>5625.0</td>\n",
       "    </tr>\n",
       "    <tr>\n",
       "      <th>1</th>\n",
       "      <td>1</td>\n",
       "      <td>POLYGON ((1650000.000 5800000.000, 1675000.000...</td>\n",
       "      <td>625.0</td>\n",
       "    </tr>\n",
       "    <tr>\n",
       "      <th>2</th>\n",
       "      <td>2</td>\n",
       "      <td>POLYGON ((700000.000 5775000.000, 750000.000 5...</td>\n",
       "      <td>1875.0</td>\n",
       "    </tr>\n",
       "    <tr>\n",
       "      <th>3</th>\n",
       "      <td>3</td>\n",
       "      <td>POLYGON ((1325000.000 5775000.000, 1350000.000...</td>\n",
       "      <td>625.0</td>\n",
       "    </tr>\n",
       "    <tr>\n",
       "      <th>4</th>\n",
       "      <td>4</td>\n",
       "      <td>POLYGON ((1050000.000 5750000.000, 1075000.000...</td>\n",
       "      <td>1250.0</td>\n",
       "    </tr>\n",
       "  </tbody>\n",
       "</table>\n",
       "</div>"
      ],
      "text/plain": [
       "   FID                                           geometry  SHAPE_Area\n",
       "0    0  POLYGON ((1000000.000 5850000.000, 1050000.000...      5625.0\n",
       "1    1  POLYGON ((1650000.000 5800000.000, 1675000.000...       625.0\n",
       "2    2  POLYGON ((700000.000 5775000.000, 750000.000 5...      1875.0\n",
       "3    3  POLYGON ((1325000.000 5775000.000, 1350000.000...       625.0\n",
       "4    4  POLYGON ((1050000.000 5750000.000, 1075000.000...      1250.0"
      ]
     },
     "execution_count": 31,
     "metadata": {},
     "output_type": "execute_result"
    }
   ],
   "source": [
    "new1[\"SHAPE_Area\"] = new1[\"geometry\"].area/ 10**6\n",
    "\n",
    "new1.head()"
   ]
  },
  {
   "cell_type": "code",
   "execution_count": 32,
   "id": "a932cd26-627b-4708-ba0e-4dc73ab891df",
   "metadata": {},
   "outputs": [
    {
     "data": {
      "text/html": [
       "<div>\n",
       "<style scoped>\n",
       "    .dataframe tbody tr th:only-of-type {\n",
       "        vertical-align: middle;\n",
       "    }\n",
       "\n",
       "    .dataframe tbody tr th {\n",
       "        vertical-align: top;\n",
       "    }\n",
       "\n",
       "    .dataframe thead th {\n",
       "        text-align: right;\n",
       "    }\n",
       "</style>\n",
       "<table border=\"1\" class=\"dataframe\">\n",
       "  <thead>\n",
       "    <tr style=\"text-align: right;\">\n",
       "      <th></th>\n",
       "      <th>FID</th>\n",
       "      <th>geometry</th>\n",
       "      <th>SHAPE_Area</th>\n",
       "      <th>dummy</th>\n",
       "    </tr>\n",
       "  </thead>\n",
       "  <tbody>\n",
       "    <tr>\n",
       "      <th>0</th>\n",
       "      <td>0</td>\n",
       "      <td>POLYGON ((1000000.000 5850000.000, 1050000.000...</td>\n",
       "      <td>5625.0</td>\n",
       "      <td>1</td>\n",
       "    </tr>\n",
       "    <tr>\n",
       "      <th>1</th>\n",
       "      <td>1</td>\n",
       "      <td>POLYGON ((1650000.000 5800000.000, 1675000.000...</td>\n",
       "      <td>625.0</td>\n",
       "      <td>1</td>\n",
       "    </tr>\n",
       "    <tr>\n",
       "      <th>2</th>\n",
       "      <td>2</td>\n",
       "      <td>POLYGON ((700000.000 5775000.000, 750000.000 5...</td>\n",
       "      <td>1875.0</td>\n",
       "      <td>1</td>\n",
       "    </tr>\n",
       "    <tr>\n",
       "      <th>3</th>\n",
       "      <td>3</td>\n",
       "      <td>POLYGON ((1325000.000 5775000.000, 1350000.000...</td>\n",
       "      <td>625.0</td>\n",
       "      <td>1</td>\n",
       "    </tr>\n",
       "    <tr>\n",
       "      <th>4</th>\n",
       "      <td>4</td>\n",
       "      <td>POLYGON ((1050000.000 5750000.000, 1075000.000...</td>\n",
       "      <td>1250.0</td>\n",
       "      <td>1</td>\n",
       "    </tr>\n",
       "    <tr>\n",
       "      <th>...</th>\n",
       "      <td>...</td>\n",
       "      <td>...</td>\n",
       "      <td>...</td>\n",
       "      <td>...</td>\n",
       "    </tr>\n",
       "    <tr>\n",
       "      <th>129</th>\n",
       "      <td>129</td>\n",
       "      <td>POLYGON ((-1425000.000 -4750000.000, -1400000....</td>\n",
       "      <td>625.0</td>\n",
       "      <td>1</td>\n",
       "    </tr>\n",
       "    <tr>\n",
       "      <th>130</th>\n",
       "      <td>130</td>\n",
       "      <td>POLYGON ((-1325000.000 -4775000.000, -1300000....</td>\n",
       "      <td>625.0</td>\n",
       "      <td>1</td>\n",
       "    </tr>\n",
       "    <tr>\n",
       "      <th>131</th>\n",
       "      <td>131</td>\n",
       "      <td>POLYGON ((-1700000.000 -4800000.000, -1650000....</td>\n",
       "      <td>1250.0</td>\n",
       "      <td>1</td>\n",
       "    </tr>\n",
       "    <tr>\n",
       "      <th>132</th>\n",
       "      <td>132</td>\n",
       "      <td>POLYGON ((-1425000.000 -4850000.000, -1400000....</td>\n",
       "      <td>625.0</td>\n",
       "      <td>1</td>\n",
       "    </tr>\n",
       "    <tr>\n",
       "      <th>133</th>\n",
       "      <td>133</td>\n",
       "      <td>POLYGON ((-1500000.000 -4900000.000, -1475000....</td>\n",
       "      <td>625.0</td>\n",
       "      <td>1</td>\n",
       "    </tr>\n",
       "  </tbody>\n",
       "</table>\n",
       "<p>134 rows × 4 columns</p>\n",
       "</div>"
      ],
      "text/plain": [
       "     FID                                           geometry  SHAPE_Area  dummy\n",
       "0      0  POLYGON ((1000000.000 5850000.000, 1050000.000...      5625.0      1\n",
       "1      1  POLYGON ((1650000.000 5800000.000, 1675000.000...       625.0      1\n",
       "2      2  POLYGON ((700000.000 5775000.000, 750000.000 5...      1875.0      1\n",
       "3      3  POLYGON ((1325000.000 5775000.000, 1350000.000...       625.0      1\n",
       "4      4  POLYGON ((1050000.000 5750000.000, 1075000.000...      1250.0      1\n",
       "..   ...                                                ...         ...    ...\n",
       "129  129  POLYGON ((-1425000.000 -4750000.000, -1400000....       625.0      1\n",
       "130  130  POLYGON ((-1325000.000 -4775000.000, -1300000....       625.0      1\n",
       "131  131  POLYGON ((-1700000.000 -4800000.000, -1650000....      1250.0      1\n",
       "132  132  POLYGON ((-1425000.000 -4850000.000, -1400000....       625.0      1\n",
       "133  133  POLYGON ((-1500000.000 -4900000.000, -1475000....       625.0      1\n",
       "\n",
       "[134 rows x 4 columns]"
      ]
     },
     "execution_count": 32,
     "metadata": {},
     "output_type": "execute_result"
    }
   ],
   "source": [
    "new1[\"dummy\"] = 1\n",
    "new1"
   ]
  },
  {
   "cell_type": "code",
   "execution_count": 34,
   "id": "2a33a759-d9e3-4bff-afc9-424d2cf11d81",
   "metadata": {},
   "outputs": [],
   "source": [
    "new1 = groupby_multipoly(new1, by=\"dummy\")"
   ]
  },
  {
   "cell_type": "code",
   "execution_count": 14,
   "id": "909aaf0d-2e68-4e97-be2b-4b32ebefb705",
   "metadata": {},
   "outputs": [],
   "source": [
    "s = 'extent_N_201601_polygon_v3.0.shp'"
   ]
  },
  {
   "cell_type": "code",
   "execution_count": 44,
   "id": "954ee40a-7dff-4155-83dc-49013a4d35d6",
   "metadata": {},
   "outputs": [
    {
     "name": "stdout",
     "output_type": "stream",
     "text": [
      "extent_N_201601_polygon_v3.0.shp\n",
      "extent_N_201602_polygon_v3.0.shp\n"
     ]
    },
    {
     "name": "stderr",
     "output_type": "stream",
     "text": [
      "/tmp/ipykernel_856/1669813912.py:17: UserWarning: Geometry is in a geographic CRS. Results from 'area' are likely incorrect. Use 'GeoSeries.to_crs()' to re-project geometries to a projected CRS before this operation.\n",
      "\n",
      "  df[\"SHAPE_Area\"] = df[\"geometry\"].area/ 10**6   # add the polygon area\n",
      "/tmp/ipykernel_856/1669813912.py:17: UserWarning: Geometry is in a geographic CRS. Results from 'area' are likely incorrect. Use 'GeoSeries.to_crs()' to re-project geometries to a projected CRS before this operation.\n",
      "\n",
      "  df[\"SHAPE_Area\"] = df[\"geometry\"].area/ 10**6   # add the polygon area\n"
     ]
    },
    {
     "name": "stdout",
     "output_type": "stream",
     "text": [
      "extent_N_201603_polygon_v3.0.shp\n",
      "extent_N_201604_polygon_v3.0.shp\n"
     ]
    },
    {
     "name": "stderr",
     "output_type": "stream",
     "text": [
      "/tmp/ipykernel_856/1669813912.py:17: UserWarning: Geometry is in a geographic CRS. Results from 'area' are likely incorrect. Use 'GeoSeries.to_crs()' to re-project geometries to a projected CRS before this operation.\n",
      "\n",
      "  df[\"SHAPE_Area\"] = df[\"geometry\"].area/ 10**6   # add the polygon area\n",
      "/tmp/ipykernel_856/1669813912.py:17: UserWarning: Geometry is in a geographic CRS. Results from 'area' are likely incorrect. Use 'GeoSeries.to_crs()' to re-project geometries to a projected CRS before this operation.\n",
      "\n",
      "  df[\"SHAPE_Area\"] = df[\"geometry\"].area/ 10**6   # add the polygon area\n"
     ]
    },
    {
     "name": "stdout",
     "output_type": "stream",
     "text": [
      "extent_N_201605_polygon_v3.0.shp\n",
      "extent_N_201606_polygon_v3.0.shp\n"
     ]
    },
    {
     "name": "stderr",
     "output_type": "stream",
     "text": [
      "/tmp/ipykernel_856/1669813912.py:17: UserWarning: Geometry is in a geographic CRS. Results from 'area' are likely incorrect. Use 'GeoSeries.to_crs()' to re-project geometries to a projected CRS before this operation.\n",
      "\n",
      "  df[\"SHAPE_Area\"] = df[\"geometry\"].area/ 10**6   # add the polygon area\n",
      "/tmp/ipykernel_856/1669813912.py:17: UserWarning: Geometry is in a geographic CRS. Results from 'area' are likely incorrect. Use 'GeoSeries.to_crs()' to re-project geometries to a projected CRS before this operation.\n",
      "\n",
      "  df[\"SHAPE_Area\"] = df[\"geometry\"].area/ 10**6   # add the polygon area\n"
     ]
    },
    {
     "name": "stdout",
     "output_type": "stream",
     "text": [
      "extent_N_201607_polygon_v3.0.shp\n",
      "extent_N_201609_polygon_v3.0.shp\n"
     ]
    },
    {
     "name": "stderr",
     "output_type": "stream",
     "text": [
      "/tmp/ipykernel_856/1669813912.py:17: UserWarning: Geometry is in a geographic CRS. Results from 'area' are likely incorrect. Use 'GeoSeries.to_crs()' to re-project geometries to a projected CRS before this operation.\n",
      "\n",
      "  df[\"SHAPE_Area\"] = df[\"geometry\"].area/ 10**6   # add the polygon area\n",
      "/tmp/ipykernel_856/1669813912.py:17: UserWarning: Geometry is in a geographic CRS. Results from 'area' are likely incorrect. Use 'GeoSeries.to_crs()' to re-project geometries to a projected CRS before this operation.\n",
      "\n",
      "  df[\"SHAPE_Area\"] = df[\"geometry\"].area/ 10**6   # add the polygon area\n"
     ]
    },
    {
     "name": "stdout",
     "output_type": "stream",
     "text": [
      "extent_N_201610_polygon_v3.0.shp\n",
      "extent_N_201611_polygon_v3.0.shp\n"
     ]
    },
    {
     "name": "stderr",
     "output_type": "stream",
     "text": [
      "/tmp/ipykernel_856/1669813912.py:17: UserWarning: Geometry is in a geographic CRS. Results from 'area' are likely incorrect. Use 'GeoSeries.to_crs()' to re-project geometries to a projected CRS before this operation.\n",
      "\n",
      "  df[\"SHAPE_Area\"] = df[\"geometry\"].area/ 10**6   # add the polygon area\n",
      "/tmp/ipykernel_856/1669813912.py:17: UserWarning: Geometry is in a geographic CRS. Results from 'area' are likely incorrect. Use 'GeoSeries.to_crs()' to re-project geometries to a projected CRS before this operation.\n",
      "\n",
      "  df[\"SHAPE_Area\"] = df[\"geometry\"].area/ 10**6   # add the polygon area\n"
     ]
    },
    {
     "name": "stdout",
     "output_type": "stream",
     "text": [
      "extent_N_201612_polygon_v3.0.shp\n",
      "extent_N_201701_polygon_v3.0.shp\n"
     ]
    },
    {
     "name": "stderr",
     "output_type": "stream",
     "text": [
      "/tmp/ipykernel_856/1669813912.py:17: UserWarning: Geometry is in a geographic CRS. Results from 'area' are likely incorrect. Use 'GeoSeries.to_crs()' to re-project geometries to a projected CRS before this operation.\n",
      "\n",
      "  df[\"SHAPE_Area\"] = df[\"geometry\"].area/ 10**6   # add the polygon area\n",
      "/tmp/ipykernel_856/1669813912.py:17: UserWarning: Geometry is in a geographic CRS. Results from 'area' are likely incorrect. Use 'GeoSeries.to_crs()' to re-project geometries to a projected CRS before this operation.\n",
      "\n",
      "  df[\"SHAPE_Area\"] = df[\"geometry\"].area/ 10**6   # add the polygon area\n"
     ]
    },
    {
     "name": "stdout",
     "output_type": "stream",
     "text": [
      "extent_N_201702_polygon_v3.0.shp\n",
      "extent_N_201703_polygon_v3.0.shp\n"
     ]
    },
    {
     "name": "stderr",
     "output_type": "stream",
     "text": [
      "/tmp/ipykernel_856/1669813912.py:17: UserWarning: Geometry is in a geographic CRS. Results from 'area' are likely incorrect. Use 'GeoSeries.to_crs()' to re-project geometries to a projected CRS before this operation.\n",
      "\n",
      "  df[\"SHAPE_Area\"] = df[\"geometry\"].area/ 10**6   # add the polygon area\n",
      "/tmp/ipykernel_856/1669813912.py:17: UserWarning: Geometry is in a geographic CRS. Results from 'area' are likely incorrect. Use 'GeoSeries.to_crs()' to re-project geometries to a projected CRS before this operation.\n",
      "\n",
      "  df[\"SHAPE_Area\"] = df[\"geometry\"].area/ 10**6   # add the polygon area\n"
     ]
    },
    {
     "name": "stdout",
     "output_type": "stream",
     "text": [
      "extent_N_201704_polygon_v3.0.shp\n",
      "extent_N_201705_polygon_v3.0.shp\n"
     ]
    },
    {
     "name": "stderr",
     "output_type": "stream",
     "text": [
      "/tmp/ipykernel_856/1669813912.py:17: UserWarning: Geometry is in a geographic CRS. Results from 'area' are likely incorrect. Use 'GeoSeries.to_crs()' to re-project geometries to a projected CRS before this operation.\n",
      "\n",
      "  df[\"SHAPE_Area\"] = df[\"geometry\"].area/ 10**6   # add the polygon area\n",
      "/tmp/ipykernel_856/1669813912.py:17: UserWarning: Geometry is in a geographic CRS. Results from 'area' are likely incorrect. Use 'GeoSeries.to_crs()' to re-project geometries to a projected CRS before this operation.\n",
      "\n",
      "  df[\"SHAPE_Area\"] = df[\"geometry\"].area/ 10**6   # add the polygon area\n"
     ]
    },
    {
     "name": "stdout",
     "output_type": "stream",
     "text": [
      "extent_N_201706_polygon_v3.0.shp\n",
      "extent_N_201707_polygon_v3.0.shp\n"
     ]
    },
    {
     "name": "stderr",
     "output_type": "stream",
     "text": [
      "/tmp/ipykernel_856/1669813912.py:17: UserWarning: Geometry is in a geographic CRS. Results from 'area' are likely incorrect. Use 'GeoSeries.to_crs()' to re-project geometries to a projected CRS before this operation.\n",
      "\n",
      "  df[\"SHAPE_Area\"] = df[\"geometry\"].area/ 10**6   # add the polygon area\n",
      "/tmp/ipykernel_856/1669813912.py:17: UserWarning: Geometry is in a geographic CRS. Results from 'area' are likely incorrect. Use 'GeoSeries.to_crs()' to re-project geometries to a projected CRS before this operation.\n",
      "\n",
      "  df[\"SHAPE_Area\"] = df[\"geometry\"].area/ 10**6   # add the polygon area\n"
     ]
    },
    {
     "name": "stdout",
     "output_type": "stream",
     "text": [
      "extent_N_201708_polygon_v3.0.shp\n",
      "extent_N_201709_polygon_v3.0.shp\n"
     ]
    },
    {
     "name": "stderr",
     "output_type": "stream",
     "text": [
      "/tmp/ipykernel_856/1669813912.py:17: UserWarning: Geometry is in a geographic CRS. Results from 'area' are likely incorrect. Use 'GeoSeries.to_crs()' to re-project geometries to a projected CRS before this operation.\n",
      "\n",
      "  df[\"SHAPE_Area\"] = df[\"geometry\"].area/ 10**6   # add the polygon area\n",
      "/tmp/ipykernel_856/1669813912.py:17: UserWarning: Geometry is in a geographic CRS. Results from 'area' are likely incorrect. Use 'GeoSeries.to_crs()' to re-project geometries to a projected CRS before this operation.\n",
      "\n",
      "  df[\"SHAPE_Area\"] = df[\"geometry\"].area/ 10**6   # add the polygon area\n"
     ]
    },
    {
     "name": "stdout",
     "output_type": "stream",
     "text": [
      "extent_N_201710_polygon_v3.0.shp\n",
      "extent_N_201711_polygon_v3.0.shp\n"
     ]
    },
    {
     "name": "stderr",
     "output_type": "stream",
     "text": [
      "/tmp/ipykernel_856/1669813912.py:17: UserWarning: Geometry is in a geographic CRS. Results from 'area' are likely incorrect. Use 'GeoSeries.to_crs()' to re-project geometries to a projected CRS before this operation.\n",
      "\n",
      "  df[\"SHAPE_Area\"] = df[\"geometry\"].area/ 10**6   # add the polygon area\n",
      "/tmp/ipykernel_856/1669813912.py:17: UserWarning: Geometry is in a geographic CRS. Results from 'area' are likely incorrect. Use 'GeoSeries.to_crs()' to re-project geometries to a projected CRS before this operation.\n",
      "\n",
      "  df[\"SHAPE_Area\"] = df[\"geometry\"].area/ 10**6   # add the polygon area\n"
     ]
    },
    {
     "name": "stdout",
     "output_type": "stream",
     "text": [
      "extent_N_201712_polygon_v3.0.shp\n",
      "extent_N_201801_polygon_v3.0.shp\n"
     ]
    },
    {
     "name": "stderr",
     "output_type": "stream",
     "text": [
      "/tmp/ipykernel_856/1669813912.py:17: UserWarning: Geometry is in a geographic CRS. Results from 'area' are likely incorrect. Use 'GeoSeries.to_crs()' to re-project geometries to a projected CRS before this operation.\n",
      "\n",
      "  df[\"SHAPE_Area\"] = df[\"geometry\"].area/ 10**6   # add the polygon area\n",
      "/tmp/ipykernel_856/1669813912.py:17: UserWarning: Geometry is in a geographic CRS. Results from 'area' are likely incorrect. Use 'GeoSeries.to_crs()' to re-project geometries to a projected CRS before this operation.\n",
      "\n",
      "  df[\"SHAPE_Area\"] = df[\"geometry\"].area/ 10**6   # add the polygon area\n"
     ]
    },
    {
     "name": "stdout",
     "output_type": "stream",
     "text": [
      "extent_N_201802_polygon_v3.0.shp\n",
      "extent_N_201803_polygon_v3.0.shp\n"
     ]
    },
    {
     "name": "stderr",
     "output_type": "stream",
     "text": [
      "/tmp/ipykernel_856/1669813912.py:17: UserWarning: Geometry is in a geographic CRS. Results from 'area' are likely incorrect. Use 'GeoSeries.to_crs()' to re-project geometries to a projected CRS before this operation.\n",
      "\n",
      "  df[\"SHAPE_Area\"] = df[\"geometry\"].area/ 10**6   # add the polygon area\n",
      "/tmp/ipykernel_856/1669813912.py:17: UserWarning: Geometry is in a geographic CRS. Results from 'area' are likely incorrect. Use 'GeoSeries.to_crs()' to re-project geometries to a projected CRS before this operation.\n",
      "\n",
      "  df[\"SHAPE_Area\"] = df[\"geometry\"].area/ 10**6   # add the polygon area\n"
     ]
    },
    {
     "name": "stdout",
     "output_type": "stream",
     "text": [
      "extent_N_201804_polygon_v3.0.shp\n",
      "extent_N_201805_polygon_v3.0.shp\n"
     ]
    },
    {
     "name": "stderr",
     "output_type": "stream",
     "text": [
      "/tmp/ipykernel_856/1669813912.py:17: UserWarning: Geometry is in a geographic CRS. Results from 'area' are likely incorrect. Use 'GeoSeries.to_crs()' to re-project geometries to a projected CRS before this operation.\n",
      "\n",
      "  df[\"SHAPE_Area\"] = df[\"geometry\"].area/ 10**6   # add the polygon area\n",
      "/tmp/ipykernel_856/1669813912.py:17: UserWarning: Geometry is in a geographic CRS. Results from 'area' are likely incorrect. Use 'GeoSeries.to_crs()' to re-project geometries to a projected CRS before this operation.\n",
      "\n",
      "  df[\"SHAPE_Area\"] = df[\"geometry\"].area/ 10**6   # add the polygon area\n"
     ]
    },
    {
     "name": "stdout",
     "output_type": "stream",
     "text": [
      "extent_N_201806_polygon_v3.0.shp\n",
      "extent_N_201807_polygon_v3.0.shp\n"
     ]
    },
    {
     "name": "stderr",
     "output_type": "stream",
     "text": [
      "/tmp/ipykernel_856/1669813912.py:17: UserWarning: Geometry is in a geographic CRS. Results from 'area' are likely incorrect. Use 'GeoSeries.to_crs()' to re-project geometries to a projected CRS before this operation.\n",
      "\n",
      "  df[\"SHAPE_Area\"] = df[\"geometry\"].area/ 10**6   # add the polygon area\n",
      "/tmp/ipykernel_856/1669813912.py:17: UserWarning: Geometry is in a geographic CRS. Results from 'area' are likely incorrect. Use 'GeoSeries.to_crs()' to re-project geometries to a projected CRS before this operation.\n",
      "\n",
      "  df[\"SHAPE_Area\"] = df[\"geometry\"].area/ 10**6   # add the polygon area\n"
     ]
    },
    {
     "name": "stdout",
     "output_type": "stream",
     "text": [
      "extent_N_201808_polygon_v3.0.shp\n",
      "extent_N_201809_polygon_v3.0.shp\n"
     ]
    },
    {
     "name": "stderr",
     "output_type": "stream",
     "text": [
      "/tmp/ipykernel_856/1669813912.py:17: UserWarning: Geometry is in a geographic CRS. Results from 'area' are likely incorrect. Use 'GeoSeries.to_crs()' to re-project geometries to a projected CRS before this operation.\n",
      "\n",
      "  df[\"SHAPE_Area\"] = df[\"geometry\"].area/ 10**6   # add the polygon area\n",
      "/tmp/ipykernel_856/1669813912.py:17: UserWarning: Geometry is in a geographic CRS. Results from 'area' are likely incorrect. Use 'GeoSeries.to_crs()' to re-project geometries to a projected CRS before this operation.\n",
      "\n",
      "  df[\"SHAPE_Area\"] = df[\"geometry\"].area/ 10**6   # add the polygon area\n"
     ]
    },
    {
     "name": "stdout",
     "output_type": "stream",
     "text": [
      "extent_N_201810_polygon_v3.0.shp\n",
      "extent_N_201811_polygon_v3.0.shp\n"
     ]
    },
    {
     "name": "stderr",
     "output_type": "stream",
     "text": [
      "/tmp/ipykernel_856/1669813912.py:17: UserWarning: Geometry is in a geographic CRS. Results from 'area' are likely incorrect. Use 'GeoSeries.to_crs()' to re-project geometries to a projected CRS before this operation.\n",
      "\n",
      "  df[\"SHAPE_Area\"] = df[\"geometry\"].area/ 10**6   # add the polygon area\n",
      "/tmp/ipykernel_856/1669813912.py:17: UserWarning: Geometry is in a geographic CRS. Results from 'area' are likely incorrect. Use 'GeoSeries.to_crs()' to re-project geometries to a projected CRS before this operation.\n",
      "\n",
      "  df[\"SHAPE_Area\"] = df[\"geometry\"].area/ 10**6   # add the polygon area\n"
     ]
    },
    {
     "name": "stdout",
     "output_type": "stream",
     "text": [
      "extent_N_201812_polygon_v3.0.shp\n",
      "extent_N_201901_polygon_v3.0.shp\n"
     ]
    },
    {
     "name": "stderr",
     "output_type": "stream",
     "text": [
      "/tmp/ipykernel_856/1669813912.py:17: UserWarning: Geometry is in a geographic CRS. Results from 'area' are likely incorrect. Use 'GeoSeries.to_crs()' to re-project geometries to a projected CRS before this operation.\n",
      "\n",
      "  df[\"SHAPE_Area\"] = df[\"geometry\"].area/ 10**6   # add the polygon area\n",
      "/tmp/ipykernel_856/1669813912.py:17: UserWarning: Geometry is in a geographic CRS. Results from 'area' are likely incorrect. Use 'GeoSeries.to_crs()' to re-project geometries to a projected CRS before this operation.\n",
      "\n",
      "  df[\"SHAPE_Area\"] = df[\"geometry\"].area/ 10**6   # add the polygon area\n"
     ]
    },
    {
     "name": "stdout",
     "output_type": "stream",
     "text": [
      "extent_N_201902_polygon_v3.0.shp\n",
      "extent_N_201903_polygon_v3.0.shp\n"
     ]
    },
    {
     "name": "stderr",
     "output_type": "stream",
     "text": [
      "/tmp/ipykernel_856/1669813912.py:17: UserWarning: Geometry is in a geographic CRS. Results from 'area' are likely incorrect. Use 'GeoSeries.to_crs()' to re-project geometries to a projected CRS before this operation.\n",
      "\n",
      "  df[\"SHAPE_Area\"] = df[\"geometry\"].area/ 10**6   # add the polygon area\n",
      "/tmp/ipykernel_856/1669813912.py:17: UserWarning: Geometry is in a geographic CRS. Results from 'area' are likely incorrect. Use 'GeoSeries.to_crs()' to re-project geometries to a projected CRS before this operation.\n",
      "\n",
      "  df[\"SHAPE_Area\"] = df[\"geometry\"].area/ 10**6   # add the polygon area\n"
     ]
    },
    {
     "name": "stdout",
     "output_type": "stream",
     "text": [
      "extent_N_201904_polygon_v3.0.shp\n",
      "extent_N_201905_polygon_v3.0.shp\n"
     ]
    },
    {
     "name": "stderr",
     "output_type": "stream",
     "text": [
      "/tmp/ipykernel_856/1669813912.py:17: UserWarning: Geometry is in a geographic CRS. Results from 'area' are likely incorrect. Use 'GeoSeries.to_crs()' to re-project geometries to a projected CRS before this operation.\n",
      "\n",
      "  df[\"SHAPE_Area\"] = df[\"geometry\"].area/ 10**6   # add the polygon area\n",
      "/tmp/ipykernel_856/1669813912.py:17: UserWarning: Geometry is in a geographic CRS. Results from 'area' are likely incorrect. Use 'GeoSeries.to_crs()' to re-project geometries to a projected CRS before this operation.\n",
      "\n",
      "  df[\"SHAPE_Area\"] = df[\"geometry\"].area/ 10**6   # add the polygon area\n"
     ]
    },
    {
     "name": "stdout",
     "output_type": "stream",
     "text": [
      "extent_N_201906_polygon_v3.0.shp\n",
      "extent_N_201907_polygon_v3.0.shp\n"
     ]
    },
    {
     "name": "stderr",
     "output_type": "stream",
     "text": [
      "/tmp/ipykernel_856/1669813912.py:17: UserWarning: Geometry is in a geographic CRS. Results from 'area' are likely incorrect. Use 'GeoSeries.to_crs()' to re-project geometries to a projected CRS before this operation.\n",
      "\n",
      "  df[\"SHAPE_Area\"] = df[\"geometry\"].area/ 10**6   # add the polygon area\n",
      "/tmp/ipykernel_856/1669813912.py:17: UserWarning: Geometry is in a geographic CRS. Results from 'area' are likely incorrect. Use 'GeoSeries.to_crs()' to re-project geometries to a projected CRS before this operation.\n",
      "\n",
      "  df[\"SHAPE_Area\"] = df[\"geometry\"].area/ 10**6   # add the polygon area\n"
     ]
    },
    {
     "name": "stdout",
     "output_type": "stream",
     "text": [
      "extent_N_201908_polygon_v3.0.shp\n",
      "extent_N_201909_polygon_v3.0.shp\n"
     ]
    },
    {
     "name": "stderr",
     "output_type": "stream",
     "text": [
      "/tmp/ipykernel_856/1669813912.py:17: UserWarning: Geometry is in a geographic CRS. Results from 'area' are likely incorrect. Use 'GeoSeries.to_crs()' to re-project geometries to a projected CRS before this operation.\n",
      "\n",
      "  df[\"SHAPE_Area\"] = df[\"geometry\"].area/ 10**6   # add the polygon area\n",
      "/tmp/ipykernel_856/1669813912.py:17: UserWarning: Geometry is in a geographic CRS. Results from 'area' are likely incorrect. Use 'GeoSeries.to_crs()' to re-project geometries to a projected CRS before this operation.\n",
      "\n",
      "  df[\"SHAPE_Area\"] = df[\"geometry\"].area/ 10**6   # add the polygon area\n"
     ]
    },
    {
     "name": "stdout",
     "output_type": "stream",
     "text": [
      "extent_N_201910_polygon_v3.0.shp\n",
      "extent_N_201911_polygon_v3.0.shp\n"
     ]
    },
    {
     "name": "stderr",
     "output_type": "stream",
     "text": [
      "/tmp/ipykernel_856/1669813912.py:17: UserWarning: Geometry is in a geographic CRS. Results from 'area' are likely incorrect. Use 'GeoSeries.to_crs()' to re-project geometries to a projected CRS before this operation.\n",
      "\n",
      "  df[\"SHAPE_Area\"] = df[\"geometry\"].area/ 10**6   # add the polygon area\n",
      "/tmp/ipykernel_856/1669813912.py:17: UserWarning: Geometry is in a geographic CRS. Results from 'area' are likely incorrect. Use 'GeoSeries.to_crs()' to re-project geometries to a projected CRS before this operation.\n",
      "\n",
      "  df[\"SHAPE_Area\"] = df[\"geometry\"].area/ 10**6   # add the polygon area\n"
     ]
    },
    {
     "name": "stdout",
     "output_type": "stream",
     "text": [
      "extent_N_201912_polygon_v3.0.shp\n",
      "extent_N_202001_polygon_v3.0.shp\n"
     ]
    },
    {
     "name": "stderr",
     "output_type": "stream",
     "text": [
      "/tmp/ipykernel_856/1669813912.py:17: UserWarning: Geometry is in a geographic CRS. Results from 'area' are likely incorrect. Use 'GeoSeries.to_crs()' to re-project geometries to a projected CRS before this operation.\n",
      "\n",
      "  df[\"SHAPE_Area\"] = df[\"geometry\"].area/ 10**6   # add the polygon area\n",
      "/tmp/ipykernel_856/1669813912.py:17: UserWarning: Geometry is in a geographic CRS. Results from 'area' are likely incorrect. Use 'GeoSeries.to_crs()' to re-project geometries to a projected CRS before this operation.\n",
      "\n",
      "  df[\"SHAPE_Area\"] = df[\"geometry\"].area/ 10**6   # add the polygon area\n"
     ]
    },
    {
     "name": "stdout",
     "output_type": "stream",
     "text": [
      "extent_N_202002_polygon_v3.0.shp\n",
      "extent_N_202003_polygon_v3.0.shp\n"
     ]
    },
    {
     "name": "stderr",
     "output_type": "stream",
     "text": [
      "/tmp/ipykernel_856/1669813912.py:17: UserWarning: Geometry is in a geographic CRS. Results from 'area' are likely incorrect. Use 'GeoSeries.to_crs()' to re-project geometries to a projected CRS before this operation.\n",
      "\n",
      "  df[\"SHAPE_Area\"] = df[\"geometry\"].area/ 10**6   # add the polygon area\n",
      "/tmp/ipykernel_856/1669813912.py:17: UserWarning: Geometry is in a geographic CRS. Results from 'area' are likely incorrect. Use 'GeoSeries.to_crs()' to re-project geometries to a projected CRS before this operation.\n",
      "\n",
      "  df[\"SHAPE_Area\"] = df[\"geometry\"].area/ 10**6   # add the polygon area\n"
     ]
    },
    {
     "name": "stdout",
     "output_type": "stream",
     "text": [
      "extent_N_202004_polygon_v3.0.shp\n",
      "extent_N_202005_polygon_v3.0.shp\n"
     ]
    },
    {
     "name": "stderr",
     "output_type": "stream",
     "text": [
      "/tmp/ipykernel_856/1669813912.py:17: UserWarning: Geometry is in a geographic CRS. Results from 'area' are likely incorrect. Use 'GeoSeries.to_crs()' to re-project geometries to a projected CRS before this operation.\n",
      "\n",
      "  df[\"SHAPE_Area\"] = df[\"geometry\"].area/ 10**6   # add the polygon area\n",
      "/tmp/ipykernel_856/1669813912.py:17: UserWarning: Geometry is in a geographic CRS. Results from 'area' are likely incorrect. Use 'GeoSeries.to_crs()' to re-project geometries to a projected CRS before this operation.\n",
      "\n",
      "  df[\"SHAPE_Area\"] = df[\"geometry\"].area/ 10**6   # add the polygon area\n"
     ]
    },
    {
     "name": "stdout",
     "output_type": "stream",
     "text": [
      "extent_N_202006_polygon_v3.0.shp\n",
      "extent_N_202007_polygon_v3.0.shp\n"
     ]
    },
    {
     "name": "stderr",
     "output_type": "stream",
     "text": [
      "/tmp/ipykernel_856/1669813912.py:17: UserWarning: Geometry is in a geographic CRS. Results from 'area' are likely incorrect. Use 'GeoSeries.to_crs()' to re-project geometries to a projected CRS before this operation.\n",
      "\n",
      "  df[\"SHAPE_Area\"] = df[\"geometry\"].area/ 10**6   # add the polygon area\n",
      "/tmp/ipykernel_856/1669813912.py:17: UserWarning: Geometry is in a geographic CRS. Results from 'area' are likely incorrect. Use 'GeoSeries.to_crs()' to re-project geometries to a projected CRS before this operation.\n",
      "\n",
      "  df[\"SHAPE_Area\"] = df[\"geometry\"].area/ 10**6   # add the polygon area\n"
     ]
    },
    {
     "name": "stdout",
     "output_type": "stream",
     "text": [
      "extent_N_202008_polygon_v3.0.shp\n",
      "extent_N_202009_polygon_v3.0.shp\n"
     ]
    },
    {
     "name": "stderr",
     "output_type": "stream",
     "text": [
      "/tmp/ipykernel_856/1669813912.py:17: UserWarning: Geometry is in a geographic CRS. Results from 'area' are likely incorrect. Use 'GeoSeries.to_crs()' to re-project geometries to a projected CRS before this operation.\n",
      "\n",
      "  df[\"SHAPE_Area\"] = df[\"geometry\"].area/ 10**6   # add the polygon area\n",
      "/tmp/ipykernel_856/1669813912.py:17: UserWarning: Geometry is in a geographic CRS. Results from 'area' are likely incorrect. Use 'GeoSeries.to_crs()' to re-project geometries to a projected CRS before this operation.\n",
      "\n",
      "  df[\"SHAPE_Area\"] = df[\"geometry\"].area/ 10**6   # add the polygon area\n"
     ]
    },
    {
     "name": "stdout",
     "output_type": "stream",
     "text": [
      "extent_N_202010_polygon_v3.0.shp\n",
      "extent_N_202011_polygon_v3.0.shp\n"
     ]
    },
    {
     "name": "stderr",
     "output_type": "stream",
     "text": [
      "/tmp/ipykernel_856/1669813912.py:17: UserWarning: Geometry is in a geographic CRS. Results from 'area' are likely incorrect. Use 'GeoSeries.to_crs()' to re-project geometries to a projected CRS before this operation.\n",
      "\n",
      "  df[\"SHAPE_Area\"] = df[\"geometry\"].area/ 10**6   # add the polygon area\n",
      "/tmp/ipykernel_856/1669813912.py:17: UserWarning: Geometry is in a geographic CRS. Results from 'area' are likely incorrect. Use 'GeoSeries.to_crs()' to re-project geometries to a projected CRS before this operation.\n",
      "\n",
      "  df[\"SHAPE_Area\"] = df[\"geometry\"].area/ 10**6   # add the polygon area\n"
     ]
    },
    {
     "name": "stdout",
     "output_type": "stream",
     "text": [
      "extent_N_202012_polygon_v3.0.shp\n",
      "extent_N_202101_polygon_v3.0.shp\n"
     ]
    },
    {
     "name": "stderr",
     "output_type": "stream",
     "text": [
      "/tmp/ipykernel_856/1669813912.py:17: UserWarning: Geometry is in a geographic CRS. Results from 'area' are likely incorrect. Use 'GeoSeries.to_crs()' to re-project geometries to a projected CRS before this operation.\n",
      "\n",
      "  df[\"SHAPE_Area\"] = df[\"geometry\"].area/ 10**6   # add the polygon area\n",
      "/tmp/ipykernel_856/1669813912.py:17: UserWarning: Geometry is in a geographic CRS. Results from 'area' are likely incorrect. Use 'GeoSeries.to_crs()' to re-project geometries to a projected CRS before this operation.\n",
      "\n",
      "  df[\"SHAPE_Area\"] = df[\"geometry\"].area/ 10**6   # add the polygon area\n"
     ]
    },
    {
     "name": "stdout",
     "output_type": "stream",
     "text": [
      "extent_N_202102_polygon_v3.0.shp\n",
      "extent_N_202103_polygon_v3.0.shp\n"
     ]
    },
    {
     "name": "stderr",
     "output_type": "stream",
     "text": [
      "/tmp/ipykernel_856/1669813912.py:17: UserWarning: Geometry is in a geographic CRS. Results from 'area' are likely incorrect. Use 'GeoSeries.to_crs()' to re-project geometries to a projected CRS before this operation.\n",
      "\n",
      "  df[\"SHAPE_Area\"] = df[\"geometry\"].area/ 10**6   # add the polygon area\n",
      "/tmp/ipykernel_856/1669813912.py:17: UserWarning: Geometry is in a geographic CRS. Results from 'area' are likely incorrect. Use 'GeoSeries.to_crs()' to re-project geometries to a projected CRS before this operation.\n",
      "\n",
      "  df[\"SHAPE_Area\"] = df[\"geometry\"].area/ 10**6   # add the polygon area\n"
     ]
    },
    {
     "name": "stdout",
     "output_type": "stream",
     "text": [
      "extent_N_202104_polygon_v3.0.shp\n",
      "extent_N_202105_polygon_v3.0.shp\n"
     ]
    },
    {
     "name": "stderr",
     "output_type": "stream",
     "text": [
      "/tmp/ipykernel_856/1669813912.py:17: UserWarning: Geometry is in a geographic CRS. Results from 'area' are likely incorrect. Use 'GeoSeries.to_crs()' to re-project geometries to a projected CRS before this operation.\n",
      "\n",
      "  df[\"SHAPE_Area\"] = df[\"geometry\"].area/ 10**6   # add the polygon area\n",
      "/tmp/ipykernel_856/1669813912.py:17: UserWarning: Geometry is in a geographic CRS. Results from 'area' are likely incorrect. Use 'GeoSeries.to_crs()' to re-project geometries to a projected CRS before this operation.\n",
      "\n",
      "  df[\"SHAPE_Area\"] = df[\"geometry\"].area/ 10**6   # add the polygon area\n"
     ]
    },
    {
     "name": "stdout",
     "output_type": "stream",
     "text": [
      "extent_N_202106_polygon_v3.0.shp\n",
      "extent_N_202107_polygon_v3.0.shp\n"
     ]
    },
    {
     "name": "stderr",
     "output_type": "stream",
     "text": [
      "/tmp/ipykernel_856/1669813912.py:17: UserWarning: Geometry is in a geographic CRS. Results from 'area' are likely incorrect. Use 'GeoSeries.to_crs()' to re-project geometries to a projected CRS before this operation.\n",
      "\n",
      "  df[\"SHAPE_Area\"] = df[\"geometry\"].area/ 10**6   # add the polygon area\n",
      "/tmp/ipykernel_856/1669813912.py:17: UserWarning: Geometry is in a geographic CRS. Results from 'area' are likely incorrect. Use 'GeoSeries.to_crs()' to re-project geometries to a projected CRS before this operation.\n",
      "\n",
      "  df[\"SHAPE_Area\"] = df[\"geometry\"].area/ 10**6   # add the polygon area\n"
     ]
    },
    {
     "name": "stdout",
     "output_type": "stream",
     "text": [
      "extent_N_202108_polygon_v3.0.shp\n",
      "extent_N_202109_polygon_v3.0.shp\n"
     ]
    },
    {
     "name": "stderr",
     "output_type": "stream",
     "text": [
      "/tmp/ipykernel_856/1669813912.py:17: UserWarning: Geometry is in a geographic CRS. Results from 'area' are likely incorrect. Use 'GeoSeries.to_crs()' to re-project geometries to a projected CRS before this operation.\n",
      "\n",
      "  df[\"SHAPE_Area\"] = df[\"geometry\"].area/ 10**6   # add the polygon area\n",
      "/tmp/ipykernel_856/1669813912.py:17: UserWarning: Geometry is in a geographic CRS. Results from 'area' are likely incorrect. Use 'GeoSeries.to_crs()' to re-project geometries to a projected CRS before this operation.\n",
      "\n",
      "  df[\"SHAPE_Area\"] = df[\"geometry\"].area/ 10**6   # add the polygon area\n"
     ]
    },
    {
     "name": "stdout",
     "output_type": "stream",
     "text": [
      "extent_N_202110_polygon_v3.0.shp\n",
      "extent_N_202111_polygon_v3.0.shp\n"
     ]
    },
    {
     "name": "stderr",
     "output_type": "stream",
     "text": [
      "/tmp/ipykernel_856/1669813912.py:17: UserWarning: Geometry is in a geographic CRS. Results from 'area' are likely incorrect. Use 'GeoSeries.to_crs()' to re-project geometries to a projected CRS before this operation.\n",
      "\n",
      "  df[\"SHAPE_Area\"] = df[\"geometry\"].area/ 10**6   # add the polygon area\n",
      "/tmp/ipykernel_856/1669813912.py:17: UserWarning: Geometry is in a geographic CRS. Results from 'area' are likely incorrect. Use 'GeoSeries.to_crs()' to re-project geometries to a projected CRS before this operation.\n",
      "\n",
      "  df[\"SHAPE_Area\"] = df[\"geometry\"].area/ 10**6   # add the polygon area\n"
     ]
    },
    {
     "name": "stdout",
     "output_type": "stream",
     "text": [
      "extent_N_202112_polygon_v3.0.shp\n"
     ]
    },
    {
     "name": "stderr",
     "output_type": "stream",
     "text": [
      "/tmp/ipykernel_856/1669813912.py:17: UserWarning: Geometry is in a geographic CRS. Results from 'area' are likely incorrect. Use 'GeoSeries.to_crs()' to re-project geometries to a projected CRS before this operation.\n",
      "\n",
      "  df[\"SHAPE_Area\"] = df[\"geometry\"].area/ 10**6   # add the polygon area\n"
     ]
    }
   ],
   "source": [
    "#path = r'/content/drive/MyDrive/group_project/data'\n",
    "\n",
    "path = 'Data/NSIDC_SeaIceExtent/unzipped'\n",
    "\n",
    "#os.chdir(path)\n",
    "\n",
    "for filename in os.listdir(path):\n",
    "    f = os.path.join(path, filename)\n",
    "    if os.path.splitext(f)[-1] == \".shp\": # check if it's a .nc file\n",
    "        df = gpd.read_file(f)\n",
    "        s = filename\n",
    "        year = s[9:13] # store the year info from the filename\n",
    "        month = s[13:15] #store the month info from the filename        \n",
    "        print(s)        \n",
    "        df[\"SHAPE_Area\"] = df[\"geometry\"].area/ 10**6   # add the polygon area\n",
    "        df[\"dummy\"] = 1                                 # create a dummy column to group by on\n",
    "        df = groupby_multipoly(df, by=\"dummy\")          # convert polygons to multipolygons\n",
    "        df[\"month\"] = month                             # add the month info as a new column\n",
    "        df[\"year\"] = year                               # add the year info as a new column\n",
    "        df['month']= df.month.astype(int)               # change data type to integer\n",
    "        df['year'] = df.year.astype(int)                # change data type to integer\n",
    "        df.to_crs(epsg=4326, inplace=True)  #change crs to join to the 'old' geojson\n",
    "        old = pd.concat([old, df ], ignore_index=True, sort=False)\n",
    "        \n",
    "          "
   ]
  },
  {
   "cell_type": "code",
   "execution_count": 45,
   "id": "05269347-720e-40a7-a0d9-7e7cab5eb554",
   "metadata": {},
   "outputs": [
    {
     "data": {
      "text/html": [
       "<div>\n",
       "<style scoped>\n",
       "    .dataframe tbody tr th:only-of-type {\n",
       "        vertical-align: middle;\n",
       "    }\n",
       "\n",
       "    .dataframe tbody tr th {\n",
       "        vertical-align: top;\n",
       "    }\n",
       "\n",
       "    .dataframe thead th {\n",
       "        text-align: right;\n",
       "    }\n",
       "</style>\n",
       "<table border=\"1\" class=\"dataframe\">\n",
       "  <thead>\n",
       "    <tr style=\"text-align: right;\">\n",
       "      <th></th>\n",
       "      <th>objectid</th>\n",
       "      <th>name</th>\n",
       "      <th>analysisdate</th>\n",
       "      <th>month</th>\n",
       "      <th>year</th>\n",
       "      <th>SHAPE_Length</th>\n",
       "      <th>SHAPE_Area</th>\n",
       "      <th>geometry</th>\n",
       "      <th>FID</th>\n",
       "    </tr>\n",
       "  </thead>\n",
       "  <tbody>\n",
       "    <tr>\n",
       "      <th>505</th>\n",
       "      <td>NaN</td>\n",
       "      <td>NaN</td>\n",
       "      <td>NaN</td>\n",
       "      <td>8</td>\n",
       "      <td>2021</td>\n",
       "      <td>NaN</td>\n",
       "      <td>5.550860e-08</td>\n",
       "      <td>MULTIPOLYGON (((136.95568 45.02922, 136.67647 ...</td>\n",
       "      <td>0.0</td>\n",
       "    </tr>\n",
       "    <tr>\n",
       "      <th>506</th>\n",
       "      <td>NaN</td>\n",
       "      <td>NaN</td>\n",
       "      <td>NaN</td>\n",
       "      <td>9</td>\n",
       "      <td>2021</td>\n",
       "      <td>NaN</td>\n",
       "      <td>5.794324e-08</td>\n",
       "      <td>MULTIPOLYGON (((138.46823 46.37374, 138.17983 ...</td>\n",
       "      <td>0.0</td>\n",
       "    </tr>\n",
       "    <tr>\n",
       "      <th>507</th>\n",
       "      <td>NaN</td>\n",
       "      <td>NaN</td>\n",
       "      <td>NaN</td>\n",
       "      <td>10</td>\n",
       "      <td>2021</td>\n",
       "      <td>NaN</td>\n",
       "      <td>6.682993e-08</td>\n",
       "      <td>MULTIPOLYGON (((140.83949 50.72244, 140.51714 ...</td>\n",
       "      <td>0.0</td>\n",
       "    </tr>\n",
       "    <tr>\n",
       "      <th>508</th>\n",
       "      <td>NaN</td>\n",
       "      <td>NaN</td>\n",
       "      <td>NaN</td>\n",
       "      <td>11</td>\n",
       "      <td>2021</td>\n",
       "      <td>NaN</td>\n",
       "      <td>1.124201e-07</td>\n",
       "      <td>MULTIPOLYGON (((142.33438 45.31734, 142.05519 ...</td>\n",
       "      <td>0.0</td>\n",
       "    </tr>\n",
       "    <tr>\n",
       "      <th>509</th>\n",
       "      <td>NaN</td>\n",
       "      <td>NaN</td>\n",
       "      <td>NaN</td>\n",
       "      <td>12</td>\n",
       "      <td>2021</td>\n",
       "      <td>NaN</td>\n",
       "      <td>9.135642e-08</td>\n",
       "      <td>MULTIPOLYGON (((125.29961 38.78287, 124.82449 ...</td>\n",
       "      <td>0.0</td>\n",
       "    </tr>\n",
       "  </tbody>\n",
       "</table>\n",
       "</div>"
      ],
      "text/plain": [
       "     objectid name analysisdate  month  year  SHAPE_Length    SHAPE_Area  \\\n",
       "505       NaN  NaN          NaN      8  2021           NaN  5.550860e-08   \n",
       "506       NaN  NaN          NaN      9  2021           NaN  5.794324e-08   \n",
       "507       NaN  NaN          NaN     10  2021           NaN  6.682993e-08   \n",
       "508       NaN  NaN          NaN     11  2021           NaN  1.124201e-07   \n",
       "509       NaN  NaN          NaN     12  2021           NaN  9.135642e-08   \n",
       "\n",
       "                                              geometry  FID  \n",
       "505  MULTIPOLYGON (((136.95568 45.02922, 136.67647 ...  0.0  \n",
       "506  MULTIPOLYGON (((138.46823 46.37374, 138.17983 ...  0.0  \n",
       "507  MULTIPOLYGON (((140.83949 50.72244, 140.51714 ...  0.0  \n",
       "508  MULTIPOLYGON (((142.33438 45.31734, 142.05519 ...  0.0  \n",
       "509  MULTIPOLYGON (((125.29961 38.78287, 124.82449 ...  0.0  "
      ]
     },
     "execution_count": 45,
     "metadata": {},
     "output_type": "execute_result"
    }
   ],
   "source": [
    "old.tail()"
   ]
  },
  {
   "cell_type": "code",
   "execution_count": 40,
   "id": "0b8b62f9-dcd1-4cb1-a81a-de0d28a1778c",
   "metadata": {},
   "outputs": [
    {
     "data": {
      "text/plain": [
       "'extent_N_201601_polygon_v3.0.shp'"
      ]
     },
     "execution_count": 40,
     "metadata": {},
     "output_type": "execute_result"
    }
   ],
   "source": [
    "path = 'Data/NSIDC_SeaIceExtent/unzipped'\n",
    "\n",
    "filename = os.listdir(path)[3]\n",
    "filename"
   ]
  },
  {
   "cell_type": "code",
   "execution_count": 41,
   "id": "44543bbd-a289-4cb5-82de-5272b034c549",
   "metadata": {},
   "outputs": [
    {
     "data": {
      "text/plain": [
       "'Data/NSIDC_SeaIceExtent/unzipped/extent_N_201601_polygon_v3.0.shp'"
      ]
     },
     "execution_count": 41,
     "metadata": {},
     "output_type": "execute_result"
    }
   ],
   "source": [
    "f1 = os.path.join(path, filename)\n",
    "f1"
   ]
  },
  {
   "cell_type": "code",
   "execution_count": 42,
   "id": "87a4337d-5962-4076-8575-b6519738acce",
   "metadata": {},
   "outputs": [
    {
     "data": {
      "text/html": [
       "<div>\n",
       "<style scoped>\n",
       "    .dataframe tbody tr th:only-of-type {\n",
       "        vertical-align: middle;\n",
       "    }\n",
       "\n",
       "    .dataframe tbody tr th {\n",
       "        vertical-align: top;\n",
       "    }\n",
       "\n",
       "    .dataframe thead th {\n",
       "        text-align: right;\n",
       "    }\n",
       "</style>\n",
       "<table border=\"1\" class=\"dataframe\">\n",
       "  <thead>\n",
       "    <tr style=\"text-align: right;\">\n",
       "      <th></th>\n",
       "      <th>FID</th>\n",
       "      <th>geometry</th>\n",
       "    </tr>\n",
       "  </thead>\n",
       "  <tbody>\n",
       "    <tr>\n",
       "      <th>0</th>\n",
       "      <td>0</td>\n",
       "      <td>POLYGON ((1000000.000 5850000.000, 1050000.000...</td>\n",
       "    </tr>\n",
       "    <tr>\n",
       "      <th>1</th>\n",
       "      <td>1</td>\n",
       "      <td>POLYGON ((1650000.000 5800000.000, 1675000.000...</td>\n",
       "    </tr>\n",
       "    <tr>\n",
       "      <th>2</th>\n",
       "      <td>2</td>\n",
       "      <td>POLYGON ((700000.000 5775000.000, 750000.000 5...</td>\n",
       "    </tr>\n",
       "    <tr>\n",
       "      <th>3</th>\n",
       "      <td>3</td>\n",
       "      <td>POLYGON ((1325000.000 5775000.000, 1350000.000...</td>\n",
       "    </tr>\n",
       "    <tr>\n",
       "      <th>4</th>\n",
       "      <td>4</td>\n",
       "      <td>POLYGON ((1050000.000 5750000.000, 1075000.000...</td>\n",
       "    </tr>\n",
       "  </tbody>\n",
       "</table>\n",
       "</div>"
      ],
      "text/plain": [
       "   FID                                           geometry\n",
       "0    0  POLYGON ((1000000.000 5850000.000, 1050000.000...\n",
       "1    1  POLYGON ((1650000.000 5800000.000, 1675000.000...\n",
       "2    2  POLYGON ((700000.000 5775000.000, 750000.000 5...\n",
       "3    3  POLYGON ((1325000.000 5775000.000, 1350000.000...\n",
       "4    4  POLYGON ((1050000.000 5750000.000, 1075000.000..."
      ]
     },
     "execution_count": 42,
     "metadata": {},
     "output_type": "execute_result"
    }
   ],
   "source": [
    "test = gpd.read_file(f1)\n",
    "test.head()"
   ]
  },
  {
   "cell_type": "code",
   "execution_count": 10,
   "id": "eb959c7d-e8a5-4b7e-b847-9b054de42519",
   "metadata": {},
   "outputs": [
    {
     "data": {
      "text/plain": [
       "'2016'"
      ]
     },
     "execution_count": 10,
     "metadata": {},
     "output_type": "execute_result"
    }
   ],
   "source": [
    "year = s[9:13]\n",
    "year"
   ]
  },
  {
   "cell_type": "code",
   "execution_count": 11,
   "id": "e335a05c-fccf-4ec4-b3b8-2a316b3d0166",
   "metadata": {},
   "outputs": [
    {
     "data": {
      "text/plain": [
       "'01'"
      ]
     },
     "execution_count": 11,
     "metadata": {},
     "output_type": "execute_result"
    }
   ],
   "source": [
    "month = s[13:15]\n",
    "month"
   ]
  },
  {
   "cell_type": "code",
   "execution_count": 15,
   "id": "b1c0735a-0c52-43cb-b451-f3bf6d25d199",
   "metadata": {},
   "outputs": [
    {
     "data": {
      "text/html": [
       "<div>\n",
       "<style scoped>\n",
       "    .dataframe tbody tr th:only-of-type {\n",
       "        vertical-align: middle;\n",
       "    }\n",
       "\n",
       "    .dataframe tbody tr th {\n",
       "        vertical-align: top;\n",
       "    }\n",
       "\n",
       "    .dataframe thead th {\n",
       "        text-align: right;\n",
       "    }\n",
       "</style>\n",
       "<table border=\"1\" class=\"dataframe\">\n",
       "  <thead>\n",
       "    <tr style=\"text-align: right;\">\n",
       "      <th></th>\n",
       "      <th>geometry</th>\n",
       "      <th>FID</th>\n",
       "      <th>SHAPE_Area</th>\n",
       "      <th>month</th>\n",
       "      <th>year</th>\n",
       "    </tr>\n",
       "    <tr>\n",
       "      <th>dummy</th>\n",
       "      <th></th>\n",
       "      <th></th>\n",
       "      <th></th>\n",
       "      <th></th>\n",
       "      <th></th>\n",
       "    </tr>\n",
       "  </thead>\n",
       "  <tbody>\n",
       "    <tr>\n",
       "      <th>1</th>\n",
       "      <td>MULTIPOLYGON (((1000000.000 5850000.000, 10500...</td>\n",
       "      <td>0</td>\n",
       "      <td>5625.0</td>\n",
       "      <td>01</td>\n",
       "      <td>2016</td>\n",
       "    </tr>\n",
       "  </tbody>\n",
       "</table>\n",
       "</div>"
      ],
      "text/plain": [
       "                                                geometry  FID  SHAPE_Area  \\\n",
       "dummy                                                                       \n",
       "1      MULTIPOLYGON (((1000000.000 5850000.000, 10500...    0      5625.0   \n",
       "\n",
       "      month  year  \n",
       "dummy              \n",
       "1        01  2016  "
      ]
     },
     "execution_count": 15,
     "metadata": {},
     "output_type": "execute_result"
    }
   ],
   "source": [
    "new1[\"month\"] = month\n",
    "new1[\"year\"] = year\n",
    "\n",
    "new1.head()"
   ]
  },
  {
   "cell_type": "code",
   "execution_count": 17,
   "id": "79c7e732-ee2f-4f6f-ac05-de8e7625eccf",
   "metadata": {},
   "outputs": [
    {
     "name": "stdout",
     "output_type": "stream",
     "text": [
      "<class 'geopandas.geodataframe.GeoDataFrame'>\n",
      "Int64Index: 1 entries, 1 to 1\n",
      "Data columns (total 5 columns):\n",
      " #   Column      Non-Null Count  Dtype   \n",
      "---  ------      --------------  -----   \n",
      " 0   geometry    1 non-null      geometry\n",
      " 1   FID         1 non-null      int64   \n",
      " 2   SHAPE_Area  1 non-null      float64 \n",
      " 3   month       1 non-null      object  \n",
      " 4   year        1 non-null      object  \n",
      "dtypes: float64(1), geometry(1), int64(1), object(2)\n",
      "memory usage: 156.0+ bytes\n"
     ]
    }
   ],
   "source": [
    "new1.info()"
   ]
  },
  {
   "cell_type": "code",
   "execution_count": 19,
   "id": "4f10aa55-ee3a-4bef-9a3e-fb794795b43f",
   "metadata": {},
   "outputs": [],
   "source": [
    "new1['month']= new1.month.astype(int)\n",
    "new1['year'] = new1.year.astype(int)"
   ]
  },
  {
   "cell_type": "code",
   "execution_count": 20,
   "id": "289b01a9-80ef-47bb-8ee7-bba08a987b71",
   "metadata": {},
   "outputs": [
    {
     "name": "stdout",
     "output_type": "stream",
     "text": [
      "<class 'geopandas.geodataframe.GeoDataFrame'>\n",
      "Int64Index: 1 entries, 1 to 1\n",
      "Data columns (total 5 columns):\n",
      " #   Column      Non-Null Count  Dtype   \n",
      "---  ------      --------------  -----   \n",
      " 0   geometry    1 non-null      geometry\n",
      " 1   FID         1 non-null      int64   \n",
      " 2   SHAPE_Area  1 non-null      float64 \n",
      " 3   month       1 non-null      int64   \n",
      " 4   year        1 non-null      int64   \n",
      "dtypes: float64(1), geometry(1), int64(3)\n",
      "memory usage: 156.0 bytes\n"
     ]
    }
   ],
   "source": [
    "new1.info()"
   ]
  },
  {
   "cell_type": "code",
   "execution_count": 21,
   "id": "a5993b37-57d9-4cd7-8a19-072ba2ec6df4",
   "metadata": {
    "tags": []
   },
   "outputs": [
    {
     "data": {
      "text/plain": [
       "<AxesSubplot:>"
      ]
     },
     "execution_count": 21,
     "metadata": {},
     "output_type": "execute_result"
    },
    {
     "data": {
      "image/png": "[encoded data removed]",
      "text/plain": [
       "<Figure size 432x288 with 1 Axes>"
      ]
     },
     "metadata": {
      "needs_background": "light"
     },
     "output_type": "display_data"
    }
   ],
   "source": [
    "new1.plot()"
   ]
  },
  {
   "cell_type": "code",
   "execution_count": 22,
   "id": "6e0afd81-15d4-4b7a-834f-66df60358f69",
   "metadata": {},
   "outputs": [
    {
     "data": {
      "text/html": [
       "<div>\n",
       "<style scoped>\n",
       "    .dataframe tbody tr th:only-of-type {\n",
       "        vertical-align: middle;\n",
       "    }\n",
       "\n",
       "    .dataframe tbody tr th {\n",
       "        vertical-align: top;\n",
       "    }\n",
       "\n",
       "    .dataframe thead th {\n",
       "        text-align: right;\n",
       "    }\n",
       "</style>\n",
       "<table border=\"1\" class=\"dataframe\">\n",
       "  <thead>\n",
       "    <tr style=\"text-align: right;\">\n",
       "      <th></th>\n",
       "      <th>objectid</th>\n",
       "      <th>name</th>\n",
       "      <th>analysisdate</th>\n",
       "      <th>month</th>\n",
       "      <th>year</th>\n",
       "      <th>SHAPE_Length</th>\n",
       "      <th>SHAPE_Area</th>\n",
       "      <th>geometry</th>\n",
       "      <th>FID</th>\n",
       "    </tr>\n",
       "  </thead>\n",
       "  <tbody>\n",
       "    <tr>\n",
       "      <th>0</th>\n",
       "      <td>1.0</td>\n",
       "      <td>197811</td>\n",
       "      <td>1978-11-01T00:00:00</td>\n",
       "      <td>11</td>\n",
       "      <td>1978</td>\n",
       "      <td>2665.940717</td>\n",
       "      <td>5860.240913</td>\n",
       "      <td>MULTIPOLYGON (((143.393 49.073, 143.216 48.270...</td>\n",
       "      <td>NaN</td>\n",
       "    </tr>\n",
       "    <tr>\n",
       "      <th>1</th>\n",
       "      <td>2.0</td>\n",
       "      <td>197812</td>\n",
       "      <td>1978-12-01T00:00:00</td>\n",
       "      <td>12</td>\n",
       "      <td>1978</td>\n",
       "      <td>3033.019146</td>\n",
       "      <td>6265.555672</td>\n",
       "      <td>MULTIPOLYGON (((141.613 44.384, 141.551 43.992...</td>\n",
       "      <td>NaN</td>\n",
       "    </tr>\n",
       "    <tr>\n",
       "      <th>2</th>\n",
       "      <td>3.0</td>\n",
       "      <td>197901</td>\n",
       "      <td>1979-01-01T00:00:00</td>\n",
       "      <td>1</td>\n",
       "      <td>1979</td>\n",
       "      <td>3178.760589</td>\n",
       "      <td>6509.636565</td>\n",
       "      <td>MULTIPOLYGON (((119.055 38.246, 119.120 38.065...</td>\n",
       "      <td>NaN</td>\n",
       "    </tr>\n",
       "    <tr>\n",
       "      <th>3</th>\n",
       "      <td>4.0</td>\n",
       "      <td>197902</td>\n",
       "      <td>1979-02-01T00:00:00</td>\n",
       "      <td>2</td>\n",
       "      <td>1979</td>\n",
       "      <td>3235.443751</td>\n",
       "      <td>6636.114144</td>\n",
       "      <td>MULTIPOLYGON (((121.608 38.771, 121.663 38.587...</td>\n",
       "      <td>NaN</td>\n",
       "    </tr>\n",
       "    <tr>\n",
       "      <th>4</th>\n",
       "      <td>5.0</td>\n",
       "      <td>197903</td>\n",
       "      <td>1979-03-01T00:00:00</td>\n",
       "      <td>3</td>\n",
       "      <td>1979</td>\n",
       "      <td>3234.851666</td>\n",
       "      <td>6644.073562</td>\n",
       "      <td>MULTIPOLYGON (((118.301 38.268, 118.369 38.088...</td>\n",
       "      <td>NaN</td>\n",
       "    </tr>\n",
       "    <tr>\n",
       "      <th>...</th>\n",
       "      <td>...</td>\n",
       "      <td>...</td>\n",
       "      <td>...</td>\n",
       "      <td>...</td>\n",
       "      <td>...</td>\n",
       "      <td>...</td>\n",
       "      <td>...</td>\n",
       "      <td>...</td>\n",
       "      <td>...</td>\n",
       "    </tr>\n",
       "    <tr>\n",
       "      <th>435</th>\n",
       "      <td>436.0</td>\n",
       "      <td>201504</td>\n",
       "      <td>2015-04-01T00:00:00</td>\n",
       "      <td>4</td>\n",
       "      <td>2015</td>\n",
       "      <td>3028.573689</td>\n",
       "      <td>6130.483827</td>\n",
       "      <td>MULTIPOLYGON (((125.259 38.969, 125.300 38.783...</td>\n",
       "      <td>NaN</td>\n",
       "    </tr>\n",
       "    <tr>\n",
       "      <th>436</th>\n",
       "      <td>437.0</td>\n",
       "      <td>201505</td>\n",
       "      <td>2015-05-01T00:00:00</td>\n",
       "      <td>5</td>\n",
       "      <td>2015</td>\n",
       "      <td>2812.741868</td>\n",
       "      <td>5920.578131</td>\n",
       "      <td>MULTIPOLYGON (((144.372 44.305, 144.328 44.110...</td>\n",
       "      <td>NaN</td>\n",
       "    </tr>\n",
       "    <tr>\n",
       "      <th>437</th>\n",
       "      <td>438.0</td>\n",
       "      <td>201506</td>\n",
       "      <td>2015-06-01T00:00:00</td>\n",
       "      <td>6</td>\n",
       "      <td>2015</td>\n",
       "      <td>2734.209098</td>\n",
       "      <td>5529.887519</td>\n",
       "      <td>MULTIPOLYGON (((143.545 47.014, 143.502 46.816...</td>\n",
       "      <td>NaN</td>\n",
       "    </tr>\n",
       "    <tr>\n",
       "      <th>438</th>\n",
       "      <td>439.0</td>\n",
       "      <td>201507</td>\n",
       "      <td>2015-07-01T00:00:00</td>\n",
       "      <td>7</td>\n",
       "      <td>2015</td>\n",
       "      <td>2417.127344</td>\n",
       "      <td>4970.616419</td>\n",
       "      <td>MULTIPOLYGON (((143.645 51.537, 143.596 51.333...</td>\n",
       "      <td>NaN</td>\n",
       "    </tr>\n",
       "    <tr>\n",
       "      <th>439</th>\n",
       "      <td>NaN</td>\n",
       "      <td>NaN</td>\n",
       "      <td>NaN</td>\n",
       "      <td>1</td>\n",
       "      <td>2016</td>\n",
       "      <td>NaN</td>\n",
       "      <td>5625.000000</td>\n",
       "      <td>MULTIPOLYGON (((1000000.000 5850000.000, 10500...</td>\n",
       "      <td>0.0</td>\n",
       "    </tr>\n",
       "  </tbody>\n",
       "</table>\n",
       "<p>440 rows × 9 columns</p>\n",
       "</div>"
      ],
      "text/plain": [
       "     objectid    name         analysisdate  month  year  SHAPE_Length  \\\n",
       "0         1.0  197811  1978-11-01T00:00:00     11  1978   2665.940717   \n",
       "1         2.0  197812  1978-12-01T00:00:00     12  1978   3033.019146   \n",
       "2         3.0  197901  1979-01-01T00:00:00      1  1979   3178.760589   \n",
       "3         4.0  197902  1979-02-01T00:00:00      2  1979   3235.443751   \n",
       "4         5.0  197903  1979-03-01T00:00:00      3  1979   3234.851666   \n",
       "..        ...     ...                  ...    ...   ...           ...   \n",
       "435     436.0  201504  2015-04-01T00:00:00      4  2015   3028.573689   \n",
       "436     437.0  201505  2015-05-01T00:00:00      5  2015   2812.741868   \n",
       "437     438.0  201506  2015-06-01T00:00:00      6  2015   2734.209098   \n",
       "438     439.0  201507  2015-07-01T00:00:00      7  2015   2417.127344   \n",
       "439       NaN     NaN                  NaN      1  2016           NaN   \n",
       "\n",
       "      SHAPE_Area                                           geometry  FID  \n",
       "0    5860.240913  MULTIPOLYGON (((143.393 49.073, 143.216 48.270...  NaN  \n",
       "1    6265.555672  MULTIPOLYGON (((141.613 44.384, 141.551 43.992...  NaN  \n",
       "2    6509.636565  MULTIPOLYGON (((119.055 38.246, 119.120 38.065...  NaN  \n",
       "3    6636.114144  MULTIPOLYGON (((121.608 38.771, 121.663 38.587...  NaN  \n",
       "4    6644.073562  MULTIPOLYGON (((118.301 38.268, 118.369 38.088...  NaN  \n",
       "..           ...                                                ...  ...  \n",
       "435  6130.483827  MULTIPOLYGON (((125.259 38.969, 125.300 38.783...  NaN  \n",
       "436  5920.578131  MULTIPOLYGON (((144.372 44.305, 144.328 44.110...  NaN  \n",
       "437  5529.887519  MULTIPOLYGON (((143.545 47.014, 143.502 46.816...  NaN  \n",
       "438  4970.616419  MULTIPOLYGON (((143.645 51.537, 143.596 51.333...  NaN  \n",
       "439  5625.000000  MULTIPOLYGON (((1000000.000 5850000.000, 10500...  0.0  \n",
       "\n",
       "[440 rows x 9 columns]"
      ]
     },
     "execution_count": 22,
     "metadata": {},
     "output_type": "execute_result"
    }
   ],
   "source": [
    "\n",
    "\n",
    "result = pd.concat([old, new1], ignore_index=True, sort=False)\n",
    "\n",
    "result"
   ]
  },
  {
   "cell_type": "code",
   "execution_count": 23,
   "id": "da409758-7dce-4daa-89ff-51bb02f546ce",
   "metadata": {},
   "outputs": [
    {
     "ename": "ValueError",
     "evalue": "'box_aspect' and 'fig_aspect' must be positive",
     "output_type": "error",
     "traceback": [
      "\u001b[0;31m---------------------------------------------------------------------------\u001b[0m",
      "\u001b[0;31mValueError\u001b[0m                                Traceback (most recent call last)",
      "\u001b[0;32m/tmp/ipykernel_856/3886789642.py\u001b[0m in \u001b[0;36m<module>\u001b[0;34m\u001b[0m\n\u001b[0;32m----> 1\u001b[0;31m \u001b[0mresult\u001b[0m\u001b[0;34m.\u001b[0m\u001b[0mplot\u001b[0m\u001b[0;34m(\u001b[0m\u001b[0;34m)\u001b[0m\u001b[0;34m\u001b[0m\u001b[0;34m\u001b[0m\u001b[0m\n\u001b[0m",
      "\u001b[0;32m/opt/conda/envs/sds2021/lib/python3.9/site-packages/geopandas/plotting.py\u001b[0m in \u001b[0;36m__call__\u001b[0;34m(self, *args, **kwargs)\u001b[0m\n\u001b[1;32m    923\u001b[0m             \u001b[0mkind\u001b[0m \u001b[0;34m=\u001b[0m \u001b[0mkwargs\u001b[0m\u001b[0;34m.\u001b[0m\u001b[0mpop\u001b[0m\u001b[0;34m(\u001b[0m\u001b[0;34m\"kind\"\u001b[0m\u001b[0;34m,\u001b[0m \u001b[0;34m\"geo\"\u001b[0m\u001b[0;34m)\u001b[0m\u001b[0;34m\u001b[0m\u001b[0;34m\u001b[0m\u001b[0m\n\u001b[1;32m    924\u001b[0m             \u001b[0;32mif\u001b[0m \u001b[0mkind\u001b[0m \u001b[0;34m==\u001b[0m \u001b[0;34m\"geo\"\u001b[0m\u001b[0;34m:\u001b[0m\u001b[0;34m\u001b[0m\u001b[0;34m\u001b[0m\u001b[0m\n\u001b[0;32m--> 925\u001b[0;31m                 \u001b[0;32mreturn\u001b[0m \u001b[0mplot_dataframe\u001b[0m\u001b[0;34m(\u001b[0m\u001b[0mdata\u001b[0m\u001b[0;34m,\u001b[0m \u001b[0;34m*\u001b[0m\u001b[0margs\u001b[0m\u001b[0;34m,\u001b[0m \u001b[0;34m**\u001b[0m\u001b[0mkwargs\u001b[0m\u001b[0;34m)\u001b[0m\u001b[0;34m\u001b[0m\u001b[0;34m\u001b[0m\u001b[0m\n\u001b[0m\u001b[1;32m    926\u001b[0m             \u001b[0;32mif\u001b[0m \u001b[0mkind\u001b[0m \u001b[0;32min\u001b[0m \u001b[0mself\u001b[0m\u001b[0;34m.\u001b[0m\u001b[0m_pandas_kinds\u001b[0m\u001b[0;34m:\u001b[0m\u001b[0;34m\u001b[0m\u001b[0;34m\u001b[0m\u001b[0m\n\u001b[1;32m    927\u001b[0m                 \u001b[0;31m# Access pandas plots\u001b[0m\u001b[0;34m\u001b[0m\u001b[0;34m\u001b[0m\u001b[0;34m\u001b[0m\u001b[0m\n",
      "\u001b[0;32m/opt/conda/envs/sds2021/lib/python3.9/site-packages/geopandas/plotting.py\u001b[0m in \u001b[0;36mplot_dataframe\u001b[0;34m(df, column, cmap, color, ax, cax, categorical, legend, scheme, k, vmin, vmax, markersize, figsize, legend_kwds, categories, classification_kwds, missing_kwds, aspect, **style_kwds)\u001b[0m\n\u001b[1;32m    687\u001b[0m \u001b[0;34m\u001b[0m\u001b[0m\n\u001b[1;32m    688\u001b[0m     \u001b[0;32mif\u001b[0m \u001b[0mcolumn\u001b[0m \u001b[0;32mis\u001b[0m \u001b[0;32mNone\u001b[0m\u001b[0;34m:\u001b[0m\u001b[0;34m\u001b[0m\u001b[0;34m\u001b[0m\u001b[0m\n\u001b[0;32m--> 689\u001b[0;31m         return plot_series(\n\u001b[0m\u001b[1;32m    690\u001b[0m             \u001b[0mdf\u001b[0m\u001b[0;34m.\u001b[0m\u001b[0mgeometry\u001b[0m\u001b[0;34m,\u001b[0m\u001b[0;34m\u001b[0m\u001b[0;34m\u001b[0m\u001b[0m\n\u001b[1;32m    691\u001b[0m             \u001b[0mcmap\u001b[0m\u001b[0;34m=\u001b[0m\u001b[0mcmap\u001b[0m\u001b[0;34m,\u001b[0m\u001b[0;34m\u001b[0m\u001b[0;34m\u001b[0m\u001b[0m\n",
      "\u001b[0;32m/opt/conda/envs/sds2021/lib/python3.9/site-packages/geopandas/plotting.py\u001b[0m in \u001b[0;36mplot_series\u001b[0;34m(s, cmap, color, ax, figsize, aspect, **style_kwds)\u001b[0m\n\u001b[1;32m    465\u001b[0m         )\n\u001b[1;32m    466\u001b[0m \u001b[0;34m\u001b[0m\u001b[0m\n\u001b[0;32m--> 467\u001b[0;31m     \u001b[0mplt\u001b[0m\u001b[0;34m.\u001b[0m\u001b[0mdraw\u001b[0m\u001b[0;34m(\u001b[0m\u001b[0;34m)\u001b[0m\u001b[0;34m\u001b[0m\u001b[0;34m\u001b[0m\u001b[0m\n\u001b[0m\u001b[1;32m    468\u001b[0m     \u001b[0;32mreturn\u001b[0m \u001b[0max\u001b[0m\u001b[0;34m\u001b[0m\u001b[0;34m\u001b[0m\u001b[0m\n\u001b[1;32m    469\u001b[0m \u001b[0;34m\u001b[0m\u001b[0m\n",
      "\u001b[0;32m/opt/conda/envs/sds2021/lib/python3.9/site-packages/matplotlib/pyplot.py\u001b[0m in \u001b[0;36mdraw\u001b[0;34m()\u001b[0m\n\u001b[1;32m    958\u001b[0m     \u001b[0mthe\u001b[0m \u001b[0mcurrent\u001b[0m \u001b[0mfigure\u001b[0m\u001b[0;34m.\u001b[0m\u001b[0;34m\u001b[0m\u001b[0;34m\u001b[0m\u001b[0m\n\u001b[1;32m    959\u001b[0m     \"\"\"\n\u001b[0;32m--> 960\u001b[0;31m     \u001b[0mgcf\u001b[0m\u001b[0;34m(\u001b[0m\u001b[0;34m)\u001b[0m\u001b[0;34m.\u001b[0m\u001b[0mcanvas\u001b[0m\u001b[0;34m.\u001b[0m\u001b[0mdraw_idle\u001b[0m\u001b[0;34m(\u001b[0m\u001b[0;34m)\u001b[0m\u001b[0;34m\u001b[0m\u001b[0;34m\u001b[0m\u001b[0m\n\u001b[0m\u001b[1;32m    961\u001b[0m \u001b[0;34m\u001b[0m\u001b[0m\n\u001b[1;32m    962\u001b[0m \u001b[0;34m\u001b[0m\u001b[0m\n",
      "\u001b[0;32m/opt/conda/envs/sds2021/lib/python3.9/site-packages/matplotlib/backend_bases.py\u001b[0m in \u001b[0;36mdraw_idle\u001b[0;34m(self, *args, **kwargs)\u001b[0m\n\u001b[1;32m   2053\u001b[0m         \u001b[0;32mif\u001b[0m \u001b[0;32mnot\u001b[0m \u001b[0mself\u001b[0m\u001b[0;34m.\u001b[0m\u001b[0m_is_idle_drawing\u001b[0m\u001b[0;34m:\u001b[0m\u001b[0;34m\u001b[0m\u001b[0;34m\u001b[0m\u001b[0m\n\u001b[1;32m   2054\u001b[0m             \u001b[0;32mwith\u001b[0m \u001b[0mself\u001b[0m\u001b[0;34m.\u001b[0m\u001b[0m_idle_draw_cntx\u001b[0m\u001b[0;34m(\u001b[0m\u001b[0;34m)\u001b[0m\u001b[0;34m:\u001b[0m\u001b[0;34m\u001b[0m\u001b[0;34m\u001b[0m\u001b[0m\n\u001b[0;32m-> 2055\u001b[0;31m                 \u001b[0mself\u001b[0m\u001b[0;34m.\u001b[0m\u001b[0mdraw\u001b[0m\u001b[0;34m(\u001b[0m\u001b[0;34m*\u001b[0m\u001b[0margs\u001b[0m\u001b[0;34m,\u001b[0m \u001b[0;34m**\u001b[0m\u001b[0mkwargs\u001b[0m\u001b[0;34m)\u001b[0m\u001b[0;34m\u001b[0m\u001b[0;34m\u001b[0m\u001b[0m\n\u001b[0m\u001b[1;32m   2056\u001b[0m \u001b[0;34m\u001b[0m\u001b[0m\n\u001b[1;32m   2057\u001b[0m     \u001b[0;32mdef\u001b[0m \u001b[0mget_width_height\u001b[0m\u001b[0;34m(\u001b[0m\u001b[0mself\u001b[0m\u001b[0;34m)\u001b[0m\u001b[0;34m:\u001b[0m\u001b[0;34m\u001b[0m\u001b[0;34m\u001b[0m\u001b[0m\n",
      "\u001b[0;32m/opt/conda/envs/sds2021/lib/python3.9/site-packages/matplotlib/backends/backend_agg.py\u001b[0m in \u001b[0;36mdraw\u001b[0;34m(self)\u001b[0m\n\u001b[1;32m    404\u001b[0m              (self.toolbar._wait_cursor_for_draw_cm() if self.toolbar\n\u001b[1;32m    405\u001b[0m               else nullcontext()):\n\u001b[0;32m--> 406\u001b[0;31m             \u001b[0mself\u001b[0m\u001b[0;34m.\u001b[0m\u001b[0mfigure\u001b[0m\u001b[0;34m.\u001b[0m\u001b[0mdraw\u001b[0m\u001b[0;34m(\u001b[0m\u001b[0mself\u001b[0m\u001b[0;34m.\u001b[0m\u001b[0mrenderer\u001b[0m\u001b[0;34m)\u001b[0m\u001b[0;34m\u001b[0m\u001b[0;34m\u001b[0m\u001b[0m\n\u001b[0m\u001b[1;32m    407\u001b[0m             \u001b[0;31m# A GUI class may be need to update a window using this draw, so\u001b[0m\u001b[0;34m\u001b[0m\u001b[0;34m\u001b[0m\u001b[0;34m\u001b[0m\u001b[0m\n\u001b[1;32m    408\u001b[0m             \u001b[0;31m# don't forget to call the superclass.\u001b[0m\u001b[0;34m\u001b[0m\u001b[0;34m\u001b[0m\u001b[0;34m\u001b[0m\u001b[0m\n",
      "\u001b[0;32m/opt/conda/envs/sds2021/lib/python3.9/site-packages/matplotlib/artist.py\u001b[0m in \u001b[0;36mdraw_wrapper\u001b[0;34m(artist, renderer, *args, **kwargs)\u001b[0m\n\u001b[1;32m     72\u001b[0m     \u001b[0;34m@\u001b[0m\u001b[0mwraps\u001b[0m\u001b[0;34m(\u001b[0m\u001b[0mdraw\u001b[0m\u001b[0;34m)\u001b[0m\u001b[0;34m\u001b[0m\u001b[0;34m\u001b[0m\u001b[0m\n\u001b[1;32m     73\u001b[0m     \u001b[0;32mdef\u001b[0m \u001b[0mdraw_wrapper\u001b[0m\u001b[0;34m(\u001b[0m\u001b[0martist\u001b[0m\u001b[0;34m,\u001b[0m \u001b[0mrenderer\u001b[0m\u001b[0;34m,\u001b[0m \u001b[0;34m*\u001b[0m\u001b[0margs\u001b[0m\u001b[0;34m,\u001b[0m \u001b[0;34m**\u001b[0m\u001b[0mkwargs\u001b[0m\u001b[0;34m)\u001b[0m\u001b[0;34m:\u001b[0m\u001b[0;34m\u001b[0m\u001b[0;34m\u001b[0m\u001b[0m\n\u001b[0;32m---> 74\u001b[0;31m         \u001b[0mresult\u001b[0m \u001b[0;34m=\u001b[0m \u001b[0mdraw\u001b[0m\u001b[0;34m(\u001b[0m\u001b[0martist\u001b[0m\u001b[0;34m,\u001b[0m \u001b[0mrenderer\u001b[0m\u001b[0;34m,\u001b[0m \u001b[0;34m*\u001b[0m\u001b[0margs\u001b[0m\u001b[0;34m,\u001b[0m \u001b[0;34m**\u001b[0m\u001b[0mkwargs\u001b[0m\u001b[0;34m)\u001b[0m\u001b[0;34m\u001b[0m\u001b[0;34m\u001b[0m\u001b[0m\n\u001b[0m\u001b[1;32m     75\u001b[0m         \u001b[0;32mif\u001b[0m \u001b[0mrenderer\u001b[0m\u001b[0;34m.\u001b[0m\u001b[0m_rasterizing\u001b[0m\u001b[0;34m:\u001b[0m\u001b[0;34m\u001b[0m\u001b[0;34m\u001b[0m\u001b[0m\n\u001b[1;32m     76\u001b[0m             \u001b[0mrenderer\u001b[0m\u001b[0;34m.\u001b[0m\u001b[0mstop_rasterizing\u001b[0m\u001b[0;34m(\u001b[0m\u001b[0;34m)\u001b[0m\u001b[0;34m\u001b[0m\u001b[0;34m\u001b[0m\u001b[0m\n",
      "\u001b[0;32m/opt/conda/envs/sds2021/lib/python3.9/site-packages/matplotlib/artist.py\u001b[0m in \u001b[0;36mdraw_wrapper\u001b[0;34m(artist, renderer, *args, **kwargs)\u001b[0m\n\u001b[1;32m     49\u001b[0m                 \u001b[0mrenderer\u001b[0m\u001b[0;34m.\u001b[0m\u001b[0mstart_filter\u001b[0m\u001b[0;34m(\u001b[0m\u001b[0;34m)\u001b[0m\u001b[0;34m\u001b[0m\u001b[0;34m\u001b[0m\u001b[0m\n\u001b[1;32m     50\u001b[0m \u001b[0;34m\u001b[0m\u001b[0m\n\u001b[0;32m---> 51\u001b[0;31m             \u001b[0;32mreturn\u001b[0m \u001b[0mdraw\u001b[0m\u001b[0;34m(\u001b[0m\u001b[0martist\u001b[0m\u001b[0;34m,\u001b[0m \u001b[0mrenderer\u001b[0m\u001b[0;34m,\u001b[0m \u001b[0;34m*\u001b[0m\u001b[0margs\u001b[0m\u001b[0;34m,\u001b[0m \u001b[0;34m**\u001b[0m\u001b[0mkwargs\u001b[0m\u001b[0;34m)\u001b[0m\u001b[0;34m\u001b[0m\u001b[0;34m\u001b[0m\u001b[0m\n\u001b[0m\u001b[1;32m     52\u001b[0m         \u001b[0;32mfinally\u001b[0m\u001b[0;34m:\u001b[0m\u001b[0;34m\u001b[0m\u001b[0;34m\u001b[0m\u001b[0m\n\u001b[1;32m     53\u001b[0m             \u001b[0;32mif\u001b[0m \u001b[0martist\u001b[0m\u001b[0;34m.\u001b[0m\u001b[0mget_agg_filter\u001b[0m\u001b[0;34m(\u001b[0m\u001b[0;34m)\u001b[0m \u001b[0;32mis\u001b[0m \u001b[0;32mnot\u001b[0m \u001b[0;32mNone\u001b[0m\u001b[0;34m:\u001b[0m\u001b[0;34m\u001b[0m\u001b[0;34m\u001b[0m\u001b[0m\n",
      "\u001b[0;32m/opt/conda/envs/sds2021/lib/python3.9/site-packages/matplotlib/figure.py\u001b[0m in \u001b[0;36mdraw\u001b[0;34m(self, renderer)\u001b[0m\n\u001b[1;32m   2764\u001b[0m             \u001b[0;32mreturn\u001b[0m\u001b[0;34m\u001b[0m\u001b[0;34m\u001b[0m\u001b[0m\n\u001b[1;32m   2765\u001b[0m \u001b[0;34m\u001b[0m\u001b[0m\n\u001b[0;32m-> 2766\u001b[0;31m         \u001b[0martists\u001b[0m \u001b[0;34m=\u001b[0m \u001b[0mself\u001b[0m\u001b[0;34m.\u001b[0m\u001b[0m_get_draw_artists\u001b[0m\u001b[0;34m(\u001b[0m\u001b[0mrenderer\u001b[0m\u001b[0;34m)\u001b[0m\u001b[0;34m\u001b[0m\u001b[0;34m\u001b[0m\u001b[0m\n\u001b[0m\u001b[1;32m   2767\u001b[0m \u001b[0;34m\u001b[0m\u001b[0m\n\u001b[1;32m   2768\u001b[0m         \u001b[0;32mtry\u001b[0m\u001b[0;34m:\u001b[0m\u001b[0;34m\u001b[0m\u001b[0;34m\u001b[0m\u001b[0m\n",
      "\u001b[0;32m/opt/conda/envs/sds2021/lib/python3.9/site-packages/matplotlib/figure.py\u001b[0m in \u001b[0;36m_get_draw_artists\u001b[0;34m(self, renderer)\u001b[0m\n\u001b[1;32m    238\u001b[0m                 \u001b[0max\u001b[0m\u001b[0;34m.\u001b[0m\u001b[0mapply_aspect\u001b[0m\u001b[0;34m(\u001b[0m\u001b[0mpos\u001b[0m\u001b[0;34m)\u001b[0m\u001b[0;34m\u001b[0m\u001b[0;34m\u001b[0m\u001b[0m\n\u001b[1;32m    239\u001b[0m             \u001b[0;32melse\u001b[0m\u001b[0;34m:\u001b[0m\u001b[0;34m\u001b[0m\u001b[0;34m\u001b[0m\u001b[0m\n\u001b[0;32m--> 240\u001b[0;31m                 \u001b[0max\u001b[0m\u001b[0;34m.\u001b[0m\u001b[0mapply_aspect\u001b[0m\u001b[0;34m(\u001b[0m\u001b[0;34m)\u001b[0m\u001b[0;34m\u001b[0m\u001b[0;34m\u001b[0m\u001b[0m\n\u001b[0m\u001b[1;32m    241\u001b[0m \u001b[0;34m\u001b[0m\u001b[0m\n\u001b[1;32m    242\u001b[0m             \u001b[0;32mfor\u001b[0m \u001b[0mchild\u001b[0m \u001b[0;32min\u001b[0m \u001b[0max\u001b[0m\u001b[0;34m.\u001b[0m\u001b[0mget_children\u001b[0m\u001b[0;34m(\u001b[0m\u001b[0;34m)\u001b[0m\u001b[0;34m:\u001b[0m\u001b[0;34m\u001b[0m\u001b[0;34m\u001b[0m\u001b[0m\n",
      "\u001b[0;32m/opt/conda/envs/sds2021/lib/python3.9/site-packages/matplotlib/axes/_base.py\u001b[0m in \u001b[0;36mapply_aspect\u001b[0;34m(self, position)\u001b[0m\n\u001b[1;32m   1725\u001b[0m             \u001b[0mbox_aspect\u001b[0m \u001b[0;34m=\u001b[0m \u001b[0maspect\u001b[0m \u001b[0;34m*\u001b[0m \u001b[0mself\u001b[0m\u001b[0;34m.\u001b[0m\u001b[0mget_data_ratio\u001b[0m\u001b[0;34m(\u001b[0m\u001b[0;34m)\u001b[0m\u001b[0;34m\u001b[0m\u001b[0;34m\u001b[0m\u001b[0m\n\u001b[1;32m   1726\u001b[0m             \u001b[0mpb\u001b[0m \u001b[0;34m=\u001b[0m \u001b[0mposition\u001b[0m\u001b[0;34m.\u001b[0m\u001b[0mfrozen\u001b[0m\u001b[0;34m(\u001b[0m\u001b[0;34m)\u001b[0m\u001b[0;34m\u001b[0m\u001b[0;34m\u001b[0m\u001b[0m\n\u001b[0;32m-> 1727\u001b[0;31m             \u001b[0mpb1\u001b[0m \u001b[0;34m=\u001b[0m \u001b[0mpb\u001b[0m\u001b[0;34m.\u001b[0m\u001b[0mshrunk_to_aspect\u001b[0m\u001b[0;34m(\u001b[0m\u001b[0mbox_aspect\u001b[0m\u001b[0;34m,\u001b[0m \u001b[0mpb\u001b[0m\u001b[0;34m,\u001b[0m \u001b[0mfig_aspect\u001b[0m\u001b[0;34m)\u001b[0m\u001b[0;34m\u001b[0m\u001b[0;34m\u001b[0m\u001b[0m\n\u001b[0m\u001b[1;32m   1728\u001b[0m             \u001b[0mself\u001b[0m\u001b[0;34m.\u001b[0m\u001b[0m_set_position\u001b[0m\u001b[0;34m(\u001b[0m\u001b[0mpb1\u001b[0m\u001b[0;34m.\u001b[0m\u001b[0manchored\u001b[0m\u001b[0;34m(\u001b[0m\u001b[0mself\u001b[0m\u001b[0;34m.\u001b[0m\u001b[0mget_anchor\u001b[0m\u001b[0;34m(\u001b[0m\u001b[0;34m)\u001b[0m\u001b[0;34m,\u001b[0m \u001b[0mpb\u001b[0m\u001b[0;34m)\u001b[0m\u001b[0;34m,\u001b[0m \u001b[0;34m'active'\u001b[0m\u001b[0;34m)\u001b[0m\u001b[0;34m\u001b[0m\u001b[0;34m\u001b[0m\u001b[0m\n\u001b[1;32m   1729\u001b[0m             \u001b[0;32mreturn\u001b[0m\u001b[0;34m\u001b[0m\u001b[0;34m\u001b[0m\u001b[0m\n",
      "\u001b[0;32m/opt/conda/envs/sds2021/lib/python3.9/site-packages/matplotlib/transforms.py\u001b[0m in \u001b[0;36mshrunk_to_aspect\u001b[0;34m(self, box_aspect, container, fig_aspect)\u001b[0m\n\u001b[1;32m    569\u001b[0m         \"\"\"\n\u001b[1;32m    570\u001b[0m         \u001b[0;32mif\u001b[0m \u001b[0mbox_aspect\u001b[0m \u001b[0;34m<=\u001b[0m \u001b[0;36m0\u001b[0m \u001b[0;32mor\u001b[0m \u001b[0mfig_aspect\u001b[0m \u001b[0;34m<=\u001b[0m \u001b[0;36m0\u001b[0m\u001b[0;34m:\u001b[0m\u001b[0;34m\u001b[0m\u001b[0;34m\u001b[0m\u001b[0m\n\u001b[0;32m--> 571\u001b[0;31m             \u001b[0;32mraise\u001b[0m \u001b[0mValueError\u001b[0m\u001b[0;34m(\u001b[0m\u001b[0;34m\"'box_aspect' and 'fig_aspect' must be positive\"\u001b[0m\u001b[0;34m)\u001b[0m\u001b[0;34m\u001b[0m\u001b[0;34m\u001b[0m\u001b[0m\n\u001b[0m\u001b[1;32m    572\u001b[0m         \u001b[0;32mif\u001b[0m \u001b[0mcontainer\u001b[0m \u001b[0;32mis\u001b[0m \u001b[0;32mNone\u001b[0m\u001b[0;34m:\u001b[0m\u001b[0;34m\u001b[0m\u001b[0;34m\u001b[0m\u001b[0m\n\u001b[1;32m    573\u001b[0m             \u001b[0mcontainer\u001b[0m \u001b[0;34m=\u001b[0m \u001b[0mself\u001b[0m\u001b[0;34m\u001b[0m\u001b[0;34m\u001b[0m\u001b[0m\n",
      "\u001b[0;31mValueError\u001b[0m: 'box_aspect' and 'fig_aspect' must be positive"
     ]
    },
    {
     "ename": "ValueError",
     "evalue": "'box_aspect' and 'fig_aspect' must be positive",
     "output_type": "error",
     "traceback": [
      "\u001b[0;31m---------------------------------------------------------------------------\u001b[0m",
      "\u001b[0;31mValueError\u001b[0m                                Traceback (most recent call last)",
      "\u001b[0;32m/opt/conda/envs/sds2021/lib/python3.9/site-packages/IPython/core/formatters.py\u001b[0m in \u001b[0;36m__call__\u001b[0;34m(self, obj)\u001b[0m\n\u001b[1;32m    339\u001b[0m                 \u001b[0;32mpass\u001b[0m\u001b[0;34m\u001b[0m\u001b[0;34m\u001b[0m\u001b[0m\n\u001b[1;32m    340\u001b[0m             \u001b[0;32melse\u001b[0m\u001b[0;34m:\u001b[0m\u001b[0;34m\u001b[0m\u001b[0;34m\u001b[0m\u001b[0m\n\u001b[0;32m--> 341\u001b[0;31m                 \u001b[0;32mreturn\u001b[0m \u001b[0mprinter\u001b[0m\u001b[0;34m(\u001b[0m\u001b[0mobj\u001b[0m\u001b[0;34m)\u001b[0m\u001b[0;34m\u001b[0m\u001b[0;34m\u001b[0m\u001b[0m\n\u001b[0m\u001b[1;32m    342\u001b[0m             \u001b[0;31m# Finally look for special method names\u001b[0m\u001b[0;34m\u001b[0m\u001b[0;34m\u001b[0m\u001b[0;34m\u001b[0m\u001b[0m\n\u001b[1;32m    343\u001b[0m             \u001b[0mmethod\u001b[0m \u001b[0;34m=\u001b[0m \u001b[0mget_real_method\u001b[0m\u001b[0;34m(\u001b[0m\u001b[0mobj\u001b[0m\u001b[0;34m,\u001b[0m \u001b[0mself\u001b[0m\u001b[0;34m.\u001b[0m\u001b[0mprint_method\u001b[0m\u001b[0;34m)\u001b[0m\u001b[0;34m\u001b[0m\u001b[0;34m\u001b[0m\u001b[0m\n",
      "\u001b[0;32m/opt/conda/envs/sds2021/lib/python3.9/site-packages/IPython/core/pylabtools.py\u001b[0m in \u001b[0;36m<lambda>\u001b[0;34m(fig)\u001b[0m\n\u001b[1;32m    248\u001b[0m \u001b[0;34m\u001b[0m\u001b[0m\n\u001b[1;32m    249\u001b[0m     \u001b[0;32mif\u001b[0m \u001b[0;34m'png'\u001b[0m \u001b[0;32min\u001b[0m \u001b[0mformats\u001b[0m\u001b[0;34m:\u001b[0m\u001b[0;34m\u001b[0m\u001b[0;34m\u001b[0m\u001b[0m\n\u001b[0;32m--> 250\u001b[0;31m         \u001b[0mpng_formatter\u001b[0m\u001b[0;34m.\u001b[0m\u001b[0mfor_type\u001b[0m\u001b[0;34m(\u001b[0m\u001b[0mFigure\u001b[0m\u001b[0;34m,\u001b[0m \u001b[0;32mlambda\u001b[0m \u001b[0mfig\u001b[0m\u001b[0;34m:\u001b[0m \u001b[0mprint_figure\u001b[0m\u001b[0;34m(\u001b[0m\u001b[0mfig\u001b[0m\u001b[0;34m,\u001b[0m \u001b[0;34m'png'\u001b[0m\u001b[0;34m,\u001b[0m \u001b[0;34m**\u001b[0m\u001b[0mkwargs\u001b[0m\u001b[0;34m)\u001b[0m\u001b[0;34m)\u001b[0m\u001b[0;34m\u001b[0m\u001b[0;34m\u001b[0m\u001b[0m\n\u001b[0m\u001b[1;32m    251\u001b[0m     \u001b[0;32mif\u001b[0m \u001b[0;34m'retina'\u001b[0m \u001b[0;32min\u001b[0m \u001b[0mformats\u001b[0m \u001b[0;32mor\u001b[0m \u001b[0;34m'png2x'\u001b[0m \u001b[0;32min\u001b[0m \u001b[0mformats\u001b[0m\u001b[0;34m:\u001b[0m\u001b[0;34m\u001b[0m\u001b[0;34m\u001b[0m\u001b[0m\n\u001b[1;32m    252\u001b[0m         \u001b[0mpng_formatter\u001b[0m\u001b[0;34m.\u001b[0m\u001b[0mfor_type\u001b[0m\u001b[0;34m(\u001b[0m\u001b[0mFigure\u001b[0m\u001b[0;34m,\u001b[0m \u001b[0;32mlambda\u001b[0m \u001b[0mfig\u001b[0m\u001b[0;34m:\u001b[0m \u001b[0mretina_figure\u001b[0m\u001b[0;34m(\u001b[0m\u001b[0mfig\u001b[0m\u001b[0;34m,\u001b[0m \u001b[0;34m**\u001b[0m\u001b[0mkwargs\u001b[0m\u001b[0;34m)\u001b[0m\u001b[0;34m)\u001b[0m\u001b[0;34m\u001b[0m\u001b[0;34m\u001b[0m\u001b[0m\n",
      "\u001b[0;32m/opt/conda/envs/sds2021/lib/python3.9/site-packages/IPython/core/pylabtools.py\u001b[0m in \u001b[0;36mprint_figure\u001b[0;34m(fig, fmt, bbox_inches, **kwargs)\u001b[0m\n\u001b[1;32m    132\u001b[0m         \u001b[0mFigureCanvasBase\u001b[0m\u001b[0;34m(\u001b[0m\u001b[0mfig\u001b[0m\u001b[0;34m)\u001b[0m\u001b[0;34m\u001b[0m\u001b[0;34m\u001b[0m\u001b[0m\n\u001b[1;32m    133\u001b[0m \u001b[0;34m\u001b[0m\u001b[0m\n\u001b[0;32m--> 134\u001b[0;31m     \u001b[0mfig\u001b[0m\u001b[0;34m.\u001b[0m\u001b[0mcanvas\u001b[0m\u001b[0;34m.\u001b[0m\u001b[0mprint_figure\u001b[0m\u001b[0;34m(\u001b[0m\u001b[0mbytes_io\u001b[0m\u001b[0;34m,\u001b[0m \u001b[0;34m**\u001b[0m\u001b[0mkw\u001b[0m\u001b[0;34m)\u001b[0m\u001b[0;34m\u001b[0m\u001b[0;34m\u001b[0m\u001b[0m\n\u001b[0m\u001b[1;32m    135\u001b[0m     \u001b[0mdata\u001b[0m \u001b[0;34m=\u001b[0m \u001b[0mbytes_io\u001b[0m\u001b[0;34m.\u001b[0m\u001b[0mgetvalue\u001b[0m\u001b[0;34m(\u001b[0m\u001b[0;34m)\u001b[0m\u001b[0;34m\u001b[0m\u001b[0;34m\u001b[0m\u001b[0m\n\u001b[1;32m    136\u001b[0m     \u001b[0;32mif\u001b[0m \u001b[0mfmt\u001b[0m \u001b[0;34m==\u001b[0m \u001b[0;34m'svg'\u001b[0m\u001b[0;34m:\u001b[0m\u001b[0;34m\u001b[0m\u001b[0;34m\u001b[0m\u001b[0m\n",
      "\u001b[0;32m/opt/conda/envs/sds2021/lib/python3.9/site-packages/matplotlib/backend_bases.py\u001b[0m in \u001b[0;36mprint_figure\u001b[0;34m(self, filename, dpi, facecolor, edgecolor, orientation, format, bbox_inches, pad_inches, bbox_extra_artists, backend, **kwargs)\u001b[0m\n\u001b[1;32m   2228\u001b[0m                        else suppress())\n\u001b[1;32m   2229\u001b[0m                 \u001b[0;32mwith\u001b[0m \u001b[0mctx\u001b[0m\u001b[0;34m:\u001b[0m\u001b[0;34m\u001b[0m\u001b[0;34m\u001b[0m\u001b[0m\n\u001b[0;32m-> 2230\u001b[0;31m                     \u001b[0mself\u001b[0m\u001b[0;34m.\u001b[0m\u001b[0mfigure\u001b[0m\u001b[0;34m.\u001b[0m\u001b[0mdraw\u001b[0m\u001b[0;34m(\u001b[0m\u001b[0mrenderer\u001b[0m\u001b[0;34m)\u001b[0m\u001b[0;34m\u001b[0m\u001b[0;34m\u001b[0m\u001b[0m\n\u001b[0m\u001b[1;32m   2231\u001b[0m \u001b[0;34m\u001b[0m\u001b[0m\n\u001b[1;32m   2232\u001b[0m             \u001b[0;32mif\u001b[0m \u001b[0mbbox_inches\u001b[0m\u001b[0;34m:\u001b[0m\u001b[0;34m\u001b[0m\u001b[0;34m\u001b[0m\u001b[0m\n",
      "\u001b[0;32m/opt/conda/envs/sds2021/lib/python3.9/site-packages/matplotlib/artist.py\u001b[0m in \u001b[0;36mdraw_wrapper\u001b[0;34m(artist, renderer, *args, **kwargs)\u001b[0m\n\u001b[1;32m     72\u001b[0m     \u001b[0;34m@\u001b[0m\u001b[0mwraps\u001b[0m\u001b[0;34m(\u001b[0m\u001b[0mdraw\u001b[0m\u001b[0;34m)\u001b[0m\u001b[0;34m\u001b[0m\u001b[0;34m\u001b[0m\u001b[0m\n\u001b[1;32m     73\u001b[0m     \u001b[0;32mdef\u001b[0m \u001b[0mdraw_wrapper\u001b[0m\u001b[0;34m(\u001b[0m\u001b[0martist\u001b[0m\u001b[0;34m,\u001b[0m \u001b[0mrenderer\u001b[0m\u001b[0;34m,\u001b[0m \u001b[0;34m*\u001b[0m\u001b[0margs\u001b[0m\u001b[0;34m,\u001b[0m \u001b[0;34m**\u001b[0m\u001b[0mkwargs\u001b[0m\u001b[0;34m)\u001b[0m\u001b[0;34m:\u001b[0m\u001b[0;34m\u001b[0m\u001b[0;34m\u001b[0m\u001b[0m\n\u001b[0;32m---> 74\u001b[0;31m         \u001b[0mresult\u001b[0m \u001b[0;34m=\u001b[0m \u001b[0mdraw\u001b[0m\u001b[0;34m(\u001b[0m\u001b[0martist\u001b[0m\u001b[0;34m,\u001b[0m \u001b[0mrenderer\u001b[0m\u001b[0;34m,\u001b[0m \u001b[0;34m*\u001b[0m\u001b[0margs\u001b[0m\u001b[0;34m,\u001b[0m \u001b[0;34m**\u001b[0m\u001b[0mkwargs\u001b[0m\u001b[0;34m)\u001b[0m\u001b[0;34m\u001b[0m\u001b[0;34m\u001b[0m\u001b[0m\n\u001b[0m\u001b[1;32m     75\u001b[0m         \u001b[0;32mif\u001b[0m \u001b[0mrenderer\u001b[0m\u001b[0;34m.\u001b[0m\u001b[0m_rasterizing\u001b[0m\u001b[0;34m:\u001b[0m\u001b[0;34m\u001b[0m\u001b[0;34m\u001b[0m\u001b[0m\n\u001b[1;32m     76\u001b[0m             \u001b[0mrenderer\u001b[0m\u001b[0;34m.\u001b[0m\u001b[0mstop_rasterizing\u001b[0m\u001b[0;34m(\u001b[0m\u001b[0;34m)\u001b[0m\u001b[0;34m\u001b[0m\u001b[0;34m\u001b[0m\u001b[0m\n",
      "\u001b[0;32m/opt/conda/envs/sds2021/lib/python3.9/site-packages/matplotlib/artist.py\u001b[0m in \u001b[0;36mdraw_wrapper\u001b[0;34m(artist, renderer, *args, **kwargs)\u001b[0m\n\u001b[1;32m     49\u001b[0m                 \u001b[0mrenderer\u001b[0m\u001b[0;34m.\u001b[0m\u001b[0mstart_filter\u001b[0m\u001b[0;34m(\u001b[0m\u001b[0;34m)\u001b[0m\u001b[0;34m\u001b[0m\u001b[0;34m\u001b[0m\u001b[0m\n\u001b[1;32m     50\u001b[0m \u001b[0;34m\u001b[0m\u001b[0m\n\u001b[0;32m---> 51\u001b[0;31m             \u001b[0;32mreturn\u001b[0m \u001b[0mdraw\u001b[0m\u001b[0;34m(\u001b[0m\u001b[0martist\u001b[0m\u001b[0;34m,\u001b[0m \u001b[0mrenderer\u001b[0m\u001b[0;34m,\u001b[0m \u001b[0;34m*\u001b[0m\u001b[0margs\u001b[0m\u001b[0;34m,\u001b[0m \u001b[0;34m**\u001b[0m\u001b[0mkwargs\u001b[0m\u001b[0;34m)\u001b[0m\u001b[0;34m\u001b[0m\u001b[0;34m\u001b[0m\u001b[0m\n\u001b[0m\u001b[1;32m     52\u001b[0m         \u001b[0;32mfinally\u001b[0m\u001b[0;34m:\u001b[0m\u001b[0;34m\u001b[0m\u001b[0;34m\u001b[0m\u001b[0m\n\u001b[1;32m     53\u001b[0m             \u001b[0;32mif\u001b[0m \u001b[0martist\u001b[0m\u001b[0;34m.\u001b[0m\u001b[0mget_agg_filter\u001b[0m\u001b[0;34m(\u001b[0m\u001b[0;34m)\u001b[0m \u001b[0;32mis\u001b[0m \u001b[0;32mnot\u001b[0m \u001b[0;32mNone\u001b[0m\u001b[0;34m:\u001b[0m\u001b[0;34m\u001b[0m\u001b[0;34m\u001b[0m\u001b[0m\n",
      "\u001b[0;32m/opt/conda/envs/sds2021/lib/python3.9/site-packages/matplotlib/figure.py\u001b[0m in \u001b[0;36mdraw\u001b[0;34m(self, renderer)\u001b[0m\n\u001b[1;32m   2764\u001b[0m             \u001b[0;32mreturn\u001b[0m\u001b[0;34m\u001b[0m\u001b[0;34m\u001b[0m\u001b[0m\n\u001b[1;32m   2765\u001b[0m \u001b[0;34m\u001b[0m\u001b[0m\n\u001b[0;32m-> 2766\u001b[0;31m         \u001b[0martists\u001b[0m \u001b[0;34m=\u001b[0m \u001b[0mself\u001b[0m\u001b[0;34m.\u001b[0m\u001b[0m_get_draw_artists\u001b[0m\u001b[0;34m(\u001b[0m\u001b[0mrenderer\u001b[0m\u001b[0;34m)\u001b[0m\u001b[0;34m\u001b[0m\u001b[0;34m\u001b[0m\u001b[0m\n\u001b[0m\u001b[1;32m   2767\u001b[0m \u001b[0;34m\u001b[0m\u001b[0m\n\u001b[1;32m   2768\u001b[0m         \u001b[0;32mtry\u001b[0m\u001b[0;34m:\u001b[0m\u001b[0;34m\u001b[0m\u001b[0;34m\u001b[0m\u001b[0m\n",
      "\u001b[0;32m/opt/conda/envs/sds2021/lib/python3.9/site-packages/matplotlib/figure.py\u001b[0m in \u001b[0;36m_get_draw_artists\u001b[0;34m(self, renderer)\u001b[0m\n\u001b[1;32m    238\u001b[0m                 \u001b[0max\u001b[0m\u001b[0;34m.\u001b[0m\u001b[0mapply_aspect\u001b[0m\u001b[0;34m(\u001b[0m\u001b[0mpos\u001b[0m\u001b[0;34m)\u001b[0m\u001b[0;34m\u001b[0m\u001b[0;34m\u001b[0m\u001b[0m\n\u001b[1;32m    239\u001b[0m             \u001b[0;32melse\u001b[0m\u001b[0;34m:\u001b[0m\u001b[0;34m\u001b[0m\u001b[0;34m\u001b[0m\u001b[0m\n\u001b[0;32m--> 240\u001b[0;31m                 \u001b[0max\u001b[0m\u001b[0;34m.\u001b[0m\u001b[0mapply_aspect\u001b[0m\u001b[0;34m(\u001b[0m\u001b[0;34m)\u001b[0m\u001b[0;34m\u001b[0m\u001b[0;34m\u001b[0m\u001b[0m\n\u001b[0m\u001b[1;32m    241\u001b[0m \u001b[0;34m\u001b[0m\u001b[0m\n\u001b[1;32m    242\u001b[0m             \u001b[0;32mfor\u001b[0m \u001b[0mchild\u001b[0m \u001b[0;32min\u001b[0m \u001b[0max\u001b[0m\u001b[0;34m.\u001b[0m\u001b[0mget_children\u001b[0m\u001b[0;34m(\u001b[0m\u001b[0;34m)\u001b[0m\u001b[0;34m:\u001b[0m\u001b[0;34m\u001b[0m\u001b[0;34m\u001b[0m\u001b[0m\n",
      "\u001b[0;32m/opt/conda/envs/sds2021/lib/python3.9/site-packages/matplotlib/axes/_base.py\u001b[0m in \u001b[0;36mapply_aspect\u001b[0;34m(self, position)\u001b[0m\n\u001b[1;32m   1725\u001b[0m             \u001b[0mbox_aspect\u001b[0m \u001b[0;34m=\u001b[0m \u001b[0maspect\u001b[0m \u001b[0;34m*\u001b[0m \u001b[0mself\u001b[0m\u001b[0;34m.\u001b[0m\u001b[0mget_data_ratio\u001b[0m\u001b[0;34m(\u001b[0m\u001b[0;34m)\u001b[0m\u001b[0;34m\u001b[0m\u001b[0;34m\u001b[0m\u001b[0m\n\u001b[1;32m   1726\u001b[0m             \u001b[0mpb\u001b[0m \u001b[0;34m=\u001b[0m \u001b[0mposition\u001b[0m\u001b[0;34m.\u001b[0m\u001b[0mfrozen\u001b[0m\u001b[0;34m(\u001b[0m\u001b[0;34m)\u001b[0m\u001b[0;34m\u001b[0m\u001b[0;34m\u001b[0m\u001b[0m\n\u001b[0;32m-> 1727\u001b[0;31m             \u001b[0mpb1\u001b[0m \u001b[0;34m=\u001b[0m \u001b[0mpb\u001b[0m\u001b[0;34m.\u001b[0m\u001b[0mshrunk_to_aspect\u001b[0m\u001b[0;34m(\u001b[0m\u001b[0mbox_aspect\u001b[0m\u001b[0;34m,\u001b[0m \u001b[0mpb\u001b[0m\u001b[0;34m,\u001b[0m \u001b[0mfig_aspect\u001b[0m\u001b[0;34m)\u001b[0m\u001b[0;34m\u001b[0m\u001b[0;34m\u001b[0m\u001b[0m\n\u001b[0m\u001b[1;32m   1728\u001b[0m             \u001b[0mself\u001b[0m\u001b[0;34m.\u001b[0m\u001b[0m_set_position\u001b[0m\u001b[0;34m(\u001b[0m\u001b[0mpb1\u001b[0m\u001b[0;34m.\u001b[0m\u001b[0manchored\u001b[0m\u001b[0;34m(\u001b[0m\u001b[0mself\u001b[0m\u001b[0;34m.\u001b[0m\u001b[0mget_anchor\u001b[0m\u001b[0;34m(\u001b[0m\u001b[0;34m)\u001b[0m\u001b[0;34m,\u001b[0m \u001b[0mpb\u001b[0m\u001b[0;34m)\u001b[0m\u001b[0;34m,\u001b[0m \u001b[0;34m'active'\u001b[0m\u001b[0;34m)\u001b[0m\u001b[0;34m\u001b[0m\u001b[0;34m\u001b[0m\u001b[0m\n\u001b[1;32m   1729\u001b[0m             \u001b[0;32mreturn\u001b[0m\u001b[0;34m\u001b[0m\u001b[0;34m\u001b[0m\u001b[0m\n",
      "\u001b[0;32m/opt/conda/envs/sds2021/lib/python3.9/site-packages/matplotlib/transforms.py\u001b[0m in \u001b[0;36mshrunk_to_aspect\u001b[0;34m(self, box_aspect, container, fig_aspect)\u001b[0m\n\u001b[1;32m    569\u001b[0m         \"\"\"\n\u001b[1;32m    570\u001b[0m         \u001b[0;32mif\u001b[0m \u001b[0mbox_aspect\u001b[0m \u001b[0;34m<=\u001b[0m \u001b[0;36m0\u001b[0m \u001b[0;32mor\u001b[0m \u001b[0mfig_aspect\u001b[0m \u001b[0;34m<=\u001b[0m \u001b[0;36m0\u001b[0m\u001b[0;34m:\u001b[0m\u001b[0;34m\u001b[0m\u001b[0;34m\u001b[0m\u001b[0m\n\u001b[0;32m--> 571\u001b[0;31m             \u001b[0;32mraise\u001b[0m \u001b[0mValueError\u001b[0m\u001b[0;34m(\u001b[0m\u001b[0;34m\"'box_aspect' and 'fig_aspect' must be positive\"\u001b[0m\u001b[0;34m)\u001b[0m\u001b[0;34m\u001b[0m\u001b[0;34m\u001b[0m\u001b[0m\n\u001b[0m\u001b[1;32m    572\u001b[0m         \u001b[0;32mif\u001b[0m \u001b[0mcontainer\u001b[0m \u001b[0;32mis\u001b[0m \u001b[0;32mNone\u001b[0m\u001b[0;34m:\u001b[0m\u001b[0;34m\u001b[0m\u001b[0;34m\u001b[0m\u001b[0m\n\u001b[1;32m    573\u001b[0m             \u001b[0mcontainer\u001b[0m \u001b[0;34m=\u001b[0m \u001b[0mself\u001b[0m\u001b[0;34m\u001b[0m\u001b[0;34m\u001b[0m\u001b[0m\n",
      "\u001b[0;31mValueError\u001b[0m: 'box_aspect' and 'fig_aspect' must be positive"
     ]
    },
    {
     "data": {
      "text/plain": [
       "<Figure size 432x288 with 1 Axes>"
      ]
     },
     "metadata": {
      "needs_background": "light"
     },
     "output_type": "display_data"
    }
   ],
   "source": [
    "result.plot()"
   ]
  },
  {
   "cell_type": "code",
   "execution_count": 7,
   "id": "269daa6a-ab5d-4f30-a30e-e956ccdcece2",
   "metadata": {},
   "outputs": [],
   "source": [
    "# export to geojsson\n",
    "\n",
    "new1.to_file(\"new1.geojson\", driver='GeoJSON')"
   ]
  },
  {
   "cell_type": "code",
   "execution_count": 8,
   "id": "64f7c618-543c-4a57-b698-d6aa06b385bc",
   "metadata": {},
   "outputs": [
    {
     "data": {
      "text/html": [
       "<div>\n",
       "<style scoped>\n",
       "    .dataframe tbody tr th:only-of-type {\n",
       "        vertical-align: middle;\n",
       "    }\n",
       "\n",
       "    .dataframe tbody tr th {\n",
       "        vertical-align: top;\n",
       "    }\n",
       "\n",
       "    .dataframe thead th {\n",
       "        text-align: right;\n",
       "    }\n",
       "</style>\n",
       "<table border=\"1\" class=\"dataframe\">\n",
       "  <thead>\n",
       "    <tr style=\"text-align: right;\">\n",
       "      <th></th>\n",
       "      <th>FID</th>\n",
       "      <th>SHAPE_Area</th>\n",
       "      <th>geometry</th>\n",
       "    </tr>\n",
       "  </thead>\n",
       "  <tbody>\n",
       "    <tr>\n",
       "      <th>0</th>\n",
       "      <td>0</td>\n",
       "      <td>5.625000e+09</td>\n",
       "      <td>POLYGON ((1000000.000 5850000.000, 1050000.000...</td>\n",
       "    </tr>\n",
       "    <tr>\n",
       "      <th>1</th>\n",
       "      <td>1</td>\n",
       "      <td>6.250000e+08</td>\n",
       "      <td>POLYGON ((1650000.000 5800000.000, 1675000.000...</td>\n",
       "    </tr>\n",
       "    <tr>\n",
       "      <th>2</th>\n",
       "      <td>2</td>\n",
       "      <td>1.875000e+09</td>\n",
       "      <td>POLYGON ((700000.000 5775000.000, 750000.000 5...</td>\n",
       "    </tr>\n",
       "    <tr>\n",
       "      <th>3</th>\n",
       "      <td>3</td>\n",
       "      <td>6.250000e+08</td>\n",
       "      <td>POLYGON ((1325000.000 5775000.000, 1350000.000...</td>\n",
       "    </tr>\n",
       "    <tr>\n",
       "      <th>4</th>\n",
       "      <td>4</td>\n",
       "      <td>1.250000e+09</td>\n",
       "      <td>POLYGON ((1050000.000 5750000.000, 1075000.000...</td>\n",
       "    </tr>\n",
       "    <tr>\n",
       "      <th>...</th>\n",
       "      <td>...</td>\n",
       "      <td>...</td>\n",
       "      <td>...</td>\n",
       "    </tr>\n",
       "    <tr>\n",
       "      <th>129</th>\n",
       "      <td>129</td>\n",
       "      <td>6.250000e+08</td>\n",
       "      <td>POLYGON ((-1425000.000 -4750000.000, -1400000....</td>\n",
       "    </tr>\n",
       "    <tr>\n",
       "      <th>130</th>\n",
       "      <td>130</td>\n",
       "      <td>6.250000e+08</td>\n",
       "      <td>POLYGON ((-1325000.000 -4775000.000, -1300000....</td>\n",
       "    </tr>\n",
       "    <tr>\n",
       "      <th>131</th>\n",
       "      <td>131</td>\n",
       "      <td>1.250000e+09</td>\n",
       "      <td>POLYGON ((-1700000.000 -4800000.000, -1650000....</td>\n",
       "    </tr>\n",
       "    <tr>\n",
       "      <th>132</th>\n",
       "      <td>132</td>\n",
       "      <td>6.250000e+08</td>\n",
       "      <td>POLYGON ((-1425000.000 -4850000.000, -1400000....</td>\n",
       "    </tr>\n",
       "    <tr>\n",
       "      <th>133</th>\n",
       "      <td>133</td>\n",
       "      <td>6.250000e+08</td>\n",
       "      <td>POLYGON ((-1500000.000 -4900000.000, -1475000....</td>\n",
       "    </tr>\n",
       "  </tbody>\n",
       "</table>\n",
       "<p>134 rows × 3 columns</p>\n",
       "</div>"
      ],
      "text/plain": [
       "     FID    SHAPE_Area                                           geometry\n",
       "0      0  5.625000e+09  POLYGON ((1000000.000 5850000.000, 1050000.000...\n",
       "1      1  6.250000e+08  POLYGON ((1650000.000 5800000.000, 1675000.000...\n",
       "2      2  1.875000e+09  POLYGON ((700000.000 5775000.000, 750000.000 5...\n",
       "3      3  6.250000e+08  POLYGON ((1325000.000 5775000.000, 1350000.000...\n",
       "4      4  1.250000e+09  POLYGON ((1050000.000 5750000.000, 1075000.000...\n",
       "..   ...           ...                                                ...\n",
       "129  129  6.250000e+08  POLYGON ((-1425000.000 -4750000.000, -1400000....\n",
       "130  130  6.250000e+08  POLYGON ((-1325000.000 -4775000.000, -1300000....\n",
       "131  131  1.250000e+09  POLYGON ((-1700000.000 -4800000.000, -1650000....\n",
       "132  132  6.250000e+08  POLYGON ((-1425000.000 -4850000.000, -1400000....\n",
       "133  133  6.250000e+08  POLYGON ((-1500000.000 -4900000.000, -1475000....\n",
       "\n",
       "[134 rows x 3 columns]"
      ]
     },
     "execution_count": 8,
     "metadata": {},
     "output_type": "execute_result"
    }
   ],
   "source": [
    "new1new = gpd.read_file(\"new1.geojson\")\n",
    "new1new"
   ]
  },
  {
   "cell_type": "code",
   "execution_count": null,
   "id": "9dde06a1-13e3-4883-a6ad-69dce3e0531e",
   "metadata": {},
   "outputs": [],
   "source": []
  },
  {
   "cell_type": "code",
   "execution_count": null,
   "id": "a20cb346-58e2-4d65-9880-498e41294c2e",
   "metadata": {},
   "outputs": [],
   "source": []
  }
 ],
 "metadata": {
  "kernelspec": {
   "display_name": "Python 3 (ipykernel)",
   "language": "python",
   "name": "python3"
  },
  "language_info": {
   "codemirror_mode": {
    "name": "ipython",
    "version": 3
   },
   "file_extension": ".py",
   "mimetype": "text/x-python",
   "name": "python",
   "nbconvert_exporter": "python",
   "pygments_lexer": "ipython3",
   "version": "3.9.6"
  }
 },
 "nbformat": 4,
 "nbformat_minor": 5
}
